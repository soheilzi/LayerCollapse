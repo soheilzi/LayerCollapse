{
 "cells": [
  {
   "cell_type": "code",
   "execution_count": 1,
   "id": "2e7c8cfb",
   "metadata": {},
   "outputs": [],
   "source": [
    "import os\n",
    "!export CUDA_VISIBLE_DEVICES=2\n",
    "os.environ[\"CUDA_VISIBLE_DEVICES\"]=\"2\""
   ]
  },
  {
   "cell_type": "code",
   "execution_count": 2,
   "id": "3f12e427",
   "metadata": {},
   "outputs": [],
   "source": [
    "%load_ext autoreload\n",
    "%autoreload 2\n",
    "\n",
    "import copy\n",
    "import math\n",
    "import random\n",
    "import time\n",
    "from collections import OrderedDict, defaultdict\n",
    "from typing import Union, List\n",
    "from utils import *\n",
    "\n",
    "import numpy as np\n",
    "import torch\n",
    "import torch.nn as nn\n",
    "from matplotlib import pyplot as plt\n",
    "from torch.optim import *\n",
    "from torch.optim.lr_scheduler import *\n",
    "from torch.utils.data import DataLoader\n",
    "from torchprofile import profile_macs\n",
    "from torchvision.datasets import *\n",
    "from torchvision.transforms import *\n",
    "from tqdm.auto import tqdm\n",
    "import torchvision.models as models\n",
    "\n",
    "from torchprofile import profile_macs\n",
    "# from torch.nn.parallel import DistributedDataParallel as DDP\n",
    "# import torch.distributed as dist\n",
    "from torch.nn.parallel import DataParallel\n",
    "\n",
    "\n",
    "assert torch.cuda.is_available(), \\\n",
    "\"CUDA support is not available.\""
   ]
  },
  {
   "cell_type": "code",
   "execution_count": 3,
   "id": "fba953b6",
   "metadata": {},
   "outputs": [
    {
     "data": {
      "text/plain": [
       "<torch._C.Generator at 0x7f08b59e4030>"
      ]
     },
     "execution_count": 3,
     "metadata": {},
     "output_type": "execute_result"
    }
   ],
   "source": [
    "random.seed(0)\n",
    "np.random.seed(0)\n",
    "torch.manual_seed(0)"
   ]
  },
  {
   "cell_type": "code",
   "execution_count": 4,
   "id": "b824b7fd",
   "metadata": {},
   "outputs": [],
   "source": [
    "dataloader = get_dataloader(\"imagenet\", batch_size=256)"
   ]
  },
  {
   "cell_type": "code",
   "execution_count": 5,
   "id": "4b8274c5",
   "metadata": {},
   "outputs": [
    {
     "name": "stderr",
     "output_type": "stream",
     "text": [
      "/home/shariff/anaconda3/lib/python3.9/site-packages/torchvision/models/_utils.py:208: UserWarning: The parameter 'pretrained' is deprecated since 0.13 and may be removed in the future, please use 'weights' instead.\n",
      "  warnings.warn(\n",
      "/home/shariff/anaconda3/lib/python3.9/site-packages/torchvision/models/_utils.py:223: UserWarning: Arguments other than a weight enum or `None` for 'weights' are deprecated since 0.13 and may be removed in the future. The current behavior is equivalent to passing `weights=VGG16_Weights.IMAGENET1K_V1`. You can also use `weights=VGG16_Weights.DEFAULT` to get the most up-to-date weights.\n",
      "  warnings.warn(msg)\n"
     ]
    }
   ],
   "source": [
    "base_model = models.vgg16(pretrained=True).cuda()"
   ]
  },
  {
   "cell_type": "code",
   "execution_count": 6,
   "id": "79c916e6",
   "metadata": {},
   "outputs": [
    {
     "name": "stderr",
     "output_type": "stream",
     "text": [
      "eval:   0%|                                                                                                                                                                             | 0/501 [00:00<?, ?it/s]"
     ]
    },
    {
     "name": "stdout",
     "output_type": "stream",
     "text": [
      "model has test accuracy=68.74%\n"
     ]
    },
    {
     "name": "stderr",
     "output_type": "stream",
     "text": [
      "                                                                                                                                                                                                                \r"
     ]
    },
    {
     "name": "stdout",
     "output_type": "stream",
     "text": [
      "model has train accuracy=77.84%\n",
      "model has size=527.79 MiB\n",
      "model has macs=15.47 Gmacs\n",
      "average inference time is 0.0023 seconds\n",
      "model has 138.36 M parameters\n"
     ]
    }
   ],
   "source": [
    "evaluate_model_imagenet(base_model, dataloader, count_nonzero_only=True)"
   ]
  },
  {
   "cell_type": "code",
   "execution_count": 7,
   "id": "f8c6dc5b",
   "metadata": {},
   "outputs": [
    {
     "name": "stdout",
     "output_type": "stream",
     "text": [
      "VGG(\n",
      "  (features): Sequential(\n",
      "    (0): Conv2d(3, 64, kernel_size=(3, 3), stride=(1, 1), padding=(1, 1))\n",
      "    (1): ReLU(inplace=True)\n",
      "    (2): Conv2d(64, 64, kernel_size=(3, 3), stride=(1, 1), padding=(1, 1))\n",
      "    (3): ReLU(inplace=True)\n",
      "    (4): MaxPool2d(kernel_size=2, stride=2, padding=0, dilation=1, ceil_mode=False)\n",
      "    (5): Conv2d(64, 128, kernel_size=(3, 3), stride=(1, 1), padding=(1, 1))\n",
      "    (6): ReLU(inplace=True)\n",
      "    (7): Conv2d(128, 128, kernel_size=(3, 3), stride=(1, 1), padding=(1, 1))\n",
      "    (8): ReLU(inplace=True)\n",
      "    (9): MaxPool2d(kernel_size=2, stride=2, padding=0, dilation=1, ceil_mode=False)\n",
      "    (10): Conv2d(128, 256, kernel_size=(3, 3), stride=(1, 1), padding=(1, 1))\n",
      "    (11): ReLU(inplace=True)\n",
      "    (12): Conv2d(256, 256, kernel_size=(3, 3), stride=(1, 1), padding=(1, 1))\n",
      "    (13): ReLU(inplace=True)\n",
      "    (14): Conv2d(256, 256, kernel_size=(3, 3), stride=(1, 1), padding=(1, 1))\n",
      "    (15): ReLU(inplace=True)\n",
      "    (16): MaxPool2d(kernel_size=2, stride=2, padding=0, dilation=1, ceil_mode=False)\n",
      "    (17): Conv2d(256, 512, kernel_size=(3, 3), stride=(1, 1), padding=(1, 1))\n",
      "    (18): ReLU(inplace=True)\n",
      "    (19): Conv2d(512, 512, kernel_size=(3, 3), stride=(1, 1), padding=(1, 1))\n",
      "    (20): ReLU(inplace=True)\n",
      "    (21): Conv2d(512, 512, kernel_size=(3, 3), stride=(1, 1), padding=(1, 1))\n",
      "    (22): ReLU(inplace=True)\n",
      "    (23): MaxPool2d(kernel_size=2, stride=2, padding=0, dilation=1, ceil_mode=False)\n",
      "    (24): Conv2d(512, 512, kernel_size=(3, 3), stride=(1, 1), padding=(1, 1))\n",
      "    (25): ReLU(inplace=True)\n",
      "    (26): Conv2d(512, 512, kernel_size=(3, 3), stride=(1, 1), padding=(1, 1))\n",
      "    (27): ReLU(inplace=True)\n",
      "    (28): Conv2d(512, 512, kernel_size=(3, 3), stride=(1, 1), padding=(1, 1))\n",
      "    (29): ReLU(inplace=True)\n",
      "    (30): MaxPool2d(kernel_size=2, stride=2, padding=0, dilation=1, ceil_mode=False)\n",
      "  )\n",
      "  (avgpool): AdaptiveAvgPool2d(output_size=(7, 7))\n",
      "  (classifier): Sequential(\n",
      "    (0): Linear(in_features=25088, out_features=4096, bias=True)\n",
      "    (1): ReLU(inplace=True)\n",
      "    (2): Dropout(p=0.5, inplace=False)\n",
      "    (3): Linear(in_features=4096, out_features=4096, bias=True)\n",
      "    (4): ReLU(inplace=True)\n",
      "    (5): Dropout(p=0.5, inplace=False)\n",
      "    (6): Linear(in_features=4096, out_features=1000, bias=True)\n",
      "  )\n",
      ")\n"
     ]
    }
   ],
   "source": [
    "print(base_model)\n"
   ]
  },
  {
   "cell_type": "code",
   "execution_count": 8,
   "id": "e6da119b",
   "metadata": {},
   "outputs": [],
   "source": [
    "# for param in base_model.features.parameters():\n",
    "#     param.requires_grad = False"
   ]
  },
  {
   "cell_type": "code",
   "execution_count": 9,
   "id": "bdd81e7d",
   "metadata": {},
   "outputs": [],
   "source": [
    "# device = torch.device(\"cuda\" if torch.cuda.is_available() else \"cpu\")\n"
   ]
  },
  {
   "cell_type": "code",
   "execution_count": 10,
   "id": "60aeee72",
   "metadata": {},
   "outputs": [],
   "source": [
    "# # Move the model to the GPU if available\n",
    "# base_model.to(device)\n",
    "\n",
    "# # Define loss function and optimizer\n",
    "# criterion = nn.CrossEntropyLoss()\n",
    "# optimizer = torch.optim.SGD(base_model.parameters(), lr=0.001, momentum=0.9)\n",
    "\n",
    "# # Training loop\n",
    "# num_epochs = 10\n",
    "\n"
   ]
  },
  {
   "cell_type": "code",
   "execution_count": 11,
   "id": "32a99701",
   "metadata": {},
   "outputs": [],
   "source": [
    "# for epoch in range(num_epochs):\n",
    "#     base_model.train()  # Set the model to training mode\n",
    "#     running_loss = 0.0\n",
    "    \n",
    "#     for images, labels in dataloader['train']:\n",
    "#         images, labels = images.to(device), labels.to(device)\n",
    "        \n",
    "#         optimizer.zero_grad()\n",
    "        \n",
    "#         outputs = base_model(images)\n",
    "#         loss = criterion(outputs, labels)\n",
    "#         loss.backward()\n",
    "#         optimizer.step()\n",
    "        \n",
    "#         running_loss += loss.item()\n",
    "    \n",
    "#     print(f\"Epoch {epoch+1}/{num_epochs}, Loss: {running_loss / len(dataloader['train'])}\")\n",
    "\n",
    "# print(\"Training complete!\")\n"
   ]
  },
  {
   "cell_type": "code",
   "execution_count": 12,
   "id": "940db903",
   "metadata": {},
   "outputs": [],
   "source": [
    "# You can save the fine-tuned model\n",
    "# torch.save(base_model.state_dict(), 'fine_tuned_vgg16.pth')"
   ]
  },
  {
   "cell_type": "code",
   "execution_count": 13,
   "id": "851da950",
   "metadata": {},
   "outputs": [],
   "source": [
    "# evaluate_model_imagenet(base_model, dataloader, count_nonzero_only=True)"
   ]
  },
  {
   "cell_type": "code",
   "execution_count": 14,
   "id": "5c2a160c",
   "metadata": {},
   "outputs": [],
   "source": [
    "# dataloader = get_dataloader(\"imagenet\", batch_size=1)"
   ]
  },
  {
   "cell_type": "code",
   "execution_count": 15,
   "id": "1a4a0ede",
   "metadata": {},
   "outputs": [],
   "source": [
    "# train_dataloader = dataloader['train']"
   ]
  },
  {
   "cell_type": "code",
   "execution_count": 16,
   "id": "092227f2",
   "metadata": {},
   "outputs": [],
   "source": [
    "# train_features, train_labels = next(iter(train_dataloader))\n",
    "# print(f\"Feature batch shape: {train_features.size()}\")\n",
    "# print(f\"Labels batch shape: {train_labels.size()}\")\n",
    "# img = train_features[0].squeeze()\n",
    "# label = train_labels[0]\n",
    "# plt.imshow(img.reshape((224,224,3)), cmap=\"gray\")\n",
    "# plt.show()\n",
    "# print(f\"Label: {label}\")"
   ]
  },
  {
   "cell_type": "code",
   "execution_count": 17,
   "id": "04391be0",
   "metadata": {},
   "outputs": [],
   "source": [
    "# from tqdm import tqdm"
   ]
  },
  {
   "cell_type": "code",
   "execution_count": 18,
   "id": "1c150cb3",
   "metadata": {},
   "outputs": [],
   "source": [
    "# classes = []\n",
    "# for data in tqdm(train_dataloader):\n",
    "#     classes.append(int(data[1][0]))\n"
   ]
  },
  {
   "cell_type": "code",
   "execution_count": 19,
   "id": "5e74d9cb",
   "metadata": {},
   "outputs": [],
   "source": [
    "# len(list(set(classes)))"
   ]
  },
  {
   "cell_type": "code",
   "execution_count": 20,
   "id": "690e8af3",
   "metadata": {},
   "outputs": [],
   "source": [
    "# train_features, train_labels = next(iter(train_dataloader))\n",
    "# print(f\"Feature batch shape: {train_features.size()}\")\n",
    "# print(f\"Labels batch shape: {train_labels.size()}\")\n",
    "# img = train_features[0].squeeze()\n"
   ]
  },
  {
   "cell_type": "code",
   "execution_count": 21,
   "id": "9ea2a232",
   "metadata": {},
   "outputs": [],
   "source": [
    "# img.permute(1,2,0).shape"
   ]
  },
  {
   "cell_type": "code",
   "execution_count": 22,
   "id": "d26396bb",
   "metadata": {},
   "outputs": [],
   "source": [
    "# len(train_dataloader)/256"
   ]
  },
  {
   "cell_type": "code",
   "execution_count": null,
   "id": "b270da3c",
   "metadata": {},
   "outputs": [],
   "source": []
  },
  {
   "cell_type": "code",
   "execution_count": 27,
   "id": "c49f2708",
   "metadata": {},
   "outputs": [],
   "source": [
    "compressed_model = copy.deepcopy(base_model)\n",
    "compressed_model.classifier._modules[str(4)] = nn.LeakyReLU(negative_slope=nn.Parameter(torch.tensor(1), requires_grad=False), inplace=True)\n",
    "compressed_model.classifier._modules[str(1)] = nn.LeakyReLU(negative_slope=nn.Parameter(torch.tensor(1), requires_grad=False), inplace=True)\n",
    "compressed_model = collapse_layers_imagenet_vgg16(compressed_model, 4)\n",
    "\n",
    "\n",
    "# compressed_model.load_state_dict(torch.load('temp_best_model.pth'))\n",
    "w0 = compressed_model.classifier._modules[str(0)].weight.data\n",
    "w6 = compressed_model.classifier._modules[str(6)].weight.data\n",
    "b0 = compressed_model.classifier._modules[str(0)].bias.data\n",
    "b6 = compressed_model.classifier._modules[str(6)].bias.data\n",
    "# model.classifier._modules[str(relu_id + 2)].weight.data = torch.matmul(w3, w0)\n",
    "compressed_model.classifier._modules[str(6)].weight.data = torch.matmul(w6, w0)\n",
    "# model.classifier._modules[str(relu_id + 2)].bias.data = torch.matmul(w3, b0) + b3\n",
    "compressed_model.classifier._modules[str(6)].bias.data = torch.matmul(w6, b0) + b6\n",
    "\n",
    "# model.classifier._modules[str(relu_id - 1)] = nn.Identity()\n",
    "# model.classifier._modules[str(relu_id)] = nn.Identity()\n",
    "# model.classifier._modules[str(relu_id + 1)] = nn.Identity()\n",
    "compressed_model.classifier._modules[str(0)] = nn.Identity()\n",
    "compressed_model.classifier._modules[str(1)] = nn.Identity()\n",
    "compressed_model.classifier._modules[str(2)] = nn.Identity()"
   ]
  },
  {
   "cell_type": "code",
   "execution_count": 28,
   "id": "ca9d02d6",
   "metadata": {},
   "outputs": [
    {
     "name": "stderr",
     "output_type": "stream",
     "text": [
      "                                                                                                                                                                                                                \r"
     ]
    },
    {
     "name": "stdout",
     "output_type": "stream",
     "text": [
      "model has test accuracy=33.06%\n",
      "model has train accuracy=36.21%\n",
      "model has size=151.84 MiB\n",
      "model has macs=0.34 Gmacs\n",
      "average inference time is 0.0013 seconds\n",
      "model has 39.80 M parameters\n"
     ]
    }
   ],
   "source": [
    "evaluate_model(compressed_model, dataloader, count_nonzero_only=True)\n"
   ]
  },
  {
   "cell_type": "code",
   "execution_count": 29,
   "id": "308f7fae",
   "metadata": {},
   "outputs": [
    {
     "name": "stdout",
     "output_type": "stream",
     "text": [
      "model has 39.80 M parameters\n"
     ]
    }
   ],
   "source": [
    "print(f\"model has {get_num_parameters(compressed_model, True)/1e6:.2f} M parameters\")"
   ]
  },
  {
   "cell_type": "code",
   "execution_count": 30,
   "id": "36d119a6",
   "metadata": {},
   "outputs": [
    {
     "data": {
      "text/plain": [
       "VGG(\n",
       "  (features): Sequential(\n",
       "    (0): Conv2d(3, 64, kernel_size=(3, 3), stride=(1, 1), padding=(1, 1))\n",
       "    (1): ReLU(inplace=True)\n",
       "    (2): Conv2d(64, 64, kernel_size=(3, 3), stride=(1, 1), padding=(1, 1))\n",
       "    (3): ReLU(inplace=True)\n",
       "    (4): MaxPool2d(kernel_size=2, stride=2, padding=0, dilation=1, ceil_mode=False)\n",
       "    (5): Conv2d(64, 128, kernel_size=(3, 3), stride=(1, 1), padding=(1, 1))\n",
       "    (6): ReLU(inplace=True)\n",
       "    (7): Conv2d(128, 128, kernel_size=(3, 3), stride=(1, 1), padding=(1, 1))\n",
       "    (8): ReLU(inplace=True)\n",
       "    (9): MaxPool2d(kernel_size=2, stride=2, padding=0, dilation=1, ceil_mode=False)\n",
       "    (10): Conv2d(128, 256, kernel_size=(3, 3), stride=(1, 1), padding=(1, 1))\n",
       "    (11): ReLU(inplace=True)\n",
       "    (12): Conv2d(256, 256, kernel_size=(3, 3), stride=(1, 1), padding=(1, 1))\n",
       "    (13): ReLU(inplace=True)\n",
       "    (14): Conv2d(256, 256, kernel_size=(3, 3), stride=(1, 1), padding=(1, 1))\n",
       "    (15): ReLU(inplace=True)\n",
       "    (16): MaxPool2d(kernel_size=2, stride=2, padding=0, dilation=1, ceil_mode=False)\n",
       "    (17): Conv2d(256, 512, kernel_size=(3, 3), stride=(1, 1), padding=(1, 1))\n",
       "    (18): ReLU(inplace=True)\n",
       "    (19): Conv2d(512, 512, kernel_size=(3, 3), stride=(1, 1), padding=(1, 1))\n",
       "    (20): ReLU(inplace=True)\n",
       "    (21): Conv2d(512, 512, kernel_size=(3, 3), stride=(1, 1), padding=(1, 1))\n",
       "    (22): ReLU(inplace=True)\n",
       "    (23): MaxPool2d(kernel_size=2, stride=2, padding=0, dilation=1, ceil_mode=False)\n",
       "    (24): Conv2d(512, 512, kernel_size=(3, 3), stride=(1, 1), padding=(1, 1))\n",
       "    (25): ReLU(inplace=True)\n",
       "    (26): Conv2d(512, 512, kernel_size=(3, 3), stride=(1, 1), padding=(1, 1))\n",
       "    (27): ReLU(inplace=True)\n",
       "    (28): Conv2d(512, 512, kernel_size=(3, 3), stride=(1, 1), padding=(1, 1))\n",
       "    (29): ReLU(inplace=True)\n",
       "    (30): MaxPool2d(kernel_size=2, stride=2, padding=0, dilation=1, ceil_mode=False)\n",
       "  )\n",
       "  (avgpool): AdaptiveAvgPool2d(output_size=(7, 7))\n",
       "  (classifier): Sequential(\n",
       "    (0): Identity()\n",
       "    (1): Identity()\n",
       "    (2): Identity()\n",
       "    (3): Identity()\n",
       "    (4): Identity()\n",
       "    (5): Identity()\n",
       "    (6): Linear(in_features=4096, out_features=1000, bias=True)\n",
       "  )\n",
       ")"
      ]
     },
     "execution_count": 30,
     "metadata": {},
     "output_type": "execute_result"
    }
   ],
   "source": [
    "compressed_model"
   ]
  },
  {
   "cell_type": "code",
   "execution_count": 31,
   "id": "f1e7b304",
   "metadata": {},
   "outputs": [],
   "source": [
    "torch.save(compressed_model.state_dict(), \"student_vgg16.pt\")"
   ]
  },
  {
   "cell_type": "code",
   "execution_count": null,
   "id": "9cebe904",
   "metadata": {},
   "outputs": [],
   "source": []
  },
  {
   "cell_type": "code",
   "execution_count": null,
   "id": "afe624fa",
   "metadata": {},
   "outputs": [],
   "source": []
  },
  {
   "cell_type": "code",
   "execution_count": 49,
   "id": "7f3ba579",
   "metadata": {},
   "outputs": [],
   "source": [
    "start = time.time()"
   ]
  },
  {
   "cell_type": "code",
   "execution_count": 50,
   "id": "3b994c16",
   "metadata": {},
   "outputs": [],
   "source": [
    "end = time.time()"
   ]
  },
  {
   "cell_type": "code",
   "execution_count": 51,
   "id": "5ee0b8c5",
   "metadata": {},
   "outputs": [
    {
     "data": {
      "text/plain": [
       "0.08238410949707031"
      ]
     },
     "execution_count": 51,
     "metadata": {},
     "output_type": "execute_result"
    }
   ],
   "source": [
    "end-start"
   ]
  },
  {
   "cell_type": "code",
   "execution_count": null,
   "id": "d5e78054",
   "metadata": {},
   "outputs": [],
   "source": []
  },
  {
   "cell_type": "code",
   "execution_count": null,
   "id": "74dd9c16",
   "metadata": {},
   "outputs": [],
   "source": []
  },
  {
   "cell_type": "code",
   "execution_count": null,
   "id": "2870d850",
   "metadata": {},
   "outputs": [],
   "source": []
  }
 ],
 "metadata": {
  "kernelspec": {
   "display_name": "Python 3 (ipykernel)",
   "language": "python",
   "name": "python3"
  },
  "language_info": {
   "codemirror_mode": {
    "name": "ipython",
    "version": 3
   },
   "file_extension": ".py",
   "mimetype": "text/x-python",
   "name": "python",
   "nbconvert_exporter": "python",
   "pygments_lexer": "ipython3",
   "version": "3.9.12"
  }
 },
 "nbformat": 4,
 "nbformat_minor": 5
}
