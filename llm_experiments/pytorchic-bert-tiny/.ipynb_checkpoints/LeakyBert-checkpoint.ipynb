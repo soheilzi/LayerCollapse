{
 "cells": [
  {
   "cell_type": "code",
   "execution_count": 1,
   "id": "ac398503",
   "metadata": {},
   "outputs": [],
   "source": [
    "# !export CUDA_VISIBLE_DEVICES=2\n",
    "# !export GLUE_DIR=/home/shariff/glue_data\n",
    "# !export BERT_PRETRAIN=data/shariff/bert_test_layer2/output_leaky_010/model_steps_805.pt\n",
    "# !export SAVE_DIR=/data/shariff/bert_test_layer2/output_leaky_020"
   ]
  },
  {
   "cell_type": "code",
   "execution_count": 2,
   "id": "f49ab226",
   "metadata": {},
   "outputs": [],
   "source": [
    "!mkdir -p /data/shariff/bert_tiny/output_leaky_210/\n",
    "!rm -rf /data/shariff/bert_tiny/output_leaky_210/*"
   ]
  },
  {
   "cell_type": "code",
   "execution_count": 3,
   "id": "a3f566f4",
   "metadata": {},
   "outputs": [],
   "source": [
    "import os\n",
    "os.environ[\"CUDA_VISIBLE_DEVICES\"]=\"1\""
   ]
  },
  {
   "cell_type": "code",
   "execution_count": 4,
   "id": "df400c90",
   "metadata": {
    "scrolled": false
   },
   "outputs": [
    {
     "name": "stdout",
     "output_type": "stream",
     "text": [
      "cuda (1 GPUs)\n",
      "Classifier(\n",
      "  (transformer): Transformer(\n",
      "    (embed): Embeddings(\n",
      "      (tok_embed): Embedding(30522, 128)\n",
      "      (pos_embed): Embedding(512, 128)\n",
      "      (seg_embed): Embedding(2, 128)\n",
      "      (norm): LayerNorm()\n",
      "      (drop): Dropout(p=0.1, inplace=False)\n",
      "    )\n",
      "    (blocks): ModuleList(\n",
      "      (0): BlockLeaky(\n",
      "        (attn): MultiHeadedSelfAttention(\n",
      "          (proj_q): Linear(in_features=128, out_features=128, bias=True)\n",
      "          (proj_k): Linear(in_features=128, out_features=128, bias=True)\n",
      "          (proj_v): Linear(in_features=128, out_features=128, bias=True)\n",
      "          (drop): Dropout(p=0.1, inplace=False)\n",
      "        )\n",
      "        (proj): Linear(in_features=128, out_features=128, bias=True)\n",
      "        (norm1): LayerNorm()\n",
      "        (pwff): PositionWiseFeedForwardLeaky(\n",
      "          (fc1): Linear(in_features=128, out_features=512, bias=True)\n",
      "          (fc2): Linear(in_features=512, out_features=128, bias=True)\n",
      "        )\n",
      "        (norm2): LayerNorm()\n",
      "        (drop): Dropout(p=0.1, inplace=False)\n",
      "      )\n",
      "      (1): BlockIdentity(\n",
      "        (attn): MultiHeadedSelfAttention(\n",
      "          (proj_q): Linear(in_features=128, out_features=128, bias=True)\n",
      "          (proj_k): Linear(in_features=128, out_features=128, bias=True)\n",
      "          (proj_v): Linear(in_features=128, out_features=128, bias=True)\n",
      "          (drop): Dropout(p=0.1, inplace=False)\n",
      "        )\n",
      "        (proj): Linear(in_features=128, out_features=128, bias=True)\n",
      "        (norm1): LayerNorm()\n",
      "        (pwff): PositionWiseFeedForwardIdentity(\n",
      "          (fc1): Identity()\n",
      "          (fc2): Linear(in_features=128, out_features=128, bias=True)\n",
      "        )\n",
      "        (norm2): LayerNorm()\n",
      "        (drop): Dropout(p=0.1, inplace=False)\n",
      "      )\n",
      "    )\n",
      "  )\n",
      "  (fc): Linear(in_features=128, out_features=128, bias=True)\n",
      "  (activ): Tanh()\n",
      "  (drop): Dropout(p=0.1, inplace=False)\n",
      "  (classifier): Linear(in_features=128, out_features=2, bias=True)\n",
      ")\n",
      "Loading the pretrained model from /data/shariff/bert_tiny/output_leaky_21/model_steps_1200.pt\n",
      "Iter (loss=X.XXX):   0%|                                | 0/115 [00:00<?, ?it/s]/home/shariff/layers/pytorchic-bert-2/optim.py:115: UserWarning: This overload of add_ is deprecated:\n",
      "\tadd_(Number alpha, Tensor other)\n",
      "Consider using one of the following signatures instead:\n",
      "\tadd_(Tensor other, *, Number alpha) (Triggered internally at ../torch/csrc/utils/python_arg_parser.cpp:1485.)\n",
      "  next_m.mul_(beta1).add_(1 - beta1, grad)\n",
      "Iter (loss=0.044): 100%|██████████████████████| 115/115 [00:02<00:00, 39.26it/s]\n",
      "Epoch 1/24 : Average Loss 0.186\n",
      "Iter (loss=0.017): 100%|██████████████████████| 115/115 [00:02<00:00, 51.09it/s]\n",
      "Epoch 2/24 : Average Loss 0.046\n",
      "Iter (loss=0.008): 100%|██████████████████████| 115/115 [00:02<00:00, 47.59it/s]\n",
      "Epoch 3/24 : Average Loss 0.020\n",
      "Iter (loss=0.005): 100%|██████████████████████| 115/115 [00:02<00:00, 49.87it/s]\n",
      "Epoch 4/24 : Average Loss 0.017\n",
      "Iter (loss=0.007): 100%|██████████████████████| 115/115 [00:02<00:00, 46.69it/s]\n",
      "Epoch 5/24 : Average Loss 0.012\n",
      "Iter (loss=0.004): 100%|██████████████████████| 115/115 [00:02<00:00, 46.55it/s]\n",
      "Epoch 6/24 : Average Loss 0.013\n",
      "Iter (loss=0.003): 100%|██████████████████████| 115/115 [00:02<00:00, 46.48it/s]\n",
      "Epoch 7/24 : Average Loss 0.010\n",
      "Iter (loss=0.003): 100%|██████████████████████| 115/115 [00:02<00:00, 45.89it/s]\n",
      "Epoch 8/24 : Average Loss 0.006\n",
      "Iter (loss=0.002): 100%|██████████████████████| 115/115 [00:02<00:00, 46.35it/s]\n",
      "Epoch 9/24 : Average Loss 0.006\n",
      "Iter (loss=0.002): 100%|██████████████████████| 115/115 [00:02<00:00, 46.79it/s]\n",
      "Epoch 10/24 : Average Loss 0.006\n",
      "Iter (loss=0.008): 100%|██████████████████████| 115/115 [00:02<00:00, 46.63it/s]\n",
      "Epoch 11/24 : Average Loss 0.011\n",
      "Iter (loss=0.001): 100%|██████████████████████| 115/115 [00:02<00:00, 45.70it/s]\n",
      "Epoch 12/24 : Average Loss 0.017\n",
      "Iter (loss=0.003): 100%|██████████████████████| 115/115 [00:02<00:00, 46.41it/s]\n",
      "Epoch 13/24 : Average Loss 0.025\n",
      "Iter (loss=0.001): 100%|██████████████████████| 115/115 [00:02<00:00, 45.85it/s]\n",
      "Epoch 14/24 : Average Loss 0.015\n",
      "Iter (loss=0.001): 100%|██████████████████████| 115/115 [00:02<00:00, 46.74it/s]\n",
      "Epoch 15/24 : Average Loss 0.016\n",
      "Iter (loss=0.002): 100%|██████████████████████| 115/115 [00:02<00:00, 45.87it/s]\n",
      "Epoch 16/24 : Average Loss 0.015\n",
      "Iter (loss=0.011): 100%|██████████████████████| 115/115 [00:02<00:00, 45.99it/s]\n",
      "Epoch 17/24 : Average Loss 0.019\n",
      "Iter (loss=0.002): 100%|██████████████████████| 115/115 [00:02<00:00, 46.16it/s]\n",
      "Epoch 18/24 : Average Loss 0.010\n",
      "Iter (loss=0.002): 100%|██████████████████████| 115/115 [00:02<00:00, 46.18it/s]\n",
      "Epoch 19/24 : Average Loss 0.011\n",
      "Iter (loss=0.065): 100%|██████████████████████| 115/115 [00:02<00:00, 45.71it/s]\n",
      "Epoch 20/24 : Average Loss 0.011\n",
      "Iter (loss=0.001): 100%|██████████████████████| 115/115 [00:02<00:00, 46.12it/s]\n",
      "Epoch 21/24 : Average Loss 0.013\n",
      "Iter (loss=0.002): 100%|██████████████████████| 115/115 [00:02<00:00, 46.34it/s]\n",
      "Epoch 22/24 : Average Loss 0.011\n",
      "Iter (loss=0.003): 100%|██████████████████████| 115/115 [00:02<00:00, 45.84it/s]\n",
      "Epoch 23/24 : Average Loss 0.009\n",
      "Iter (loss=0.001): 100%|██████████████████████| 115/115 [00:02<00:00, 46.24it/s]\n",
      "Epoch 24/24 : Average Loss 0.009\n"
     ]
    }
   ],
   "source": [
    "!python3 classify.py \\\n",
    "    --task mrpc \\\n",
    "    --mode train \\\n",
    "    --train_cfg config/train_mrpc.json \\\n",
    "    --model_cfg config/bert_base.json \\\n",
    "    --data_file /home/shariff/glue_data/MRPC/train.tsv \\\n",
    "    --pretrain_file /data/shariff/bert_tiny/output_leaky_21/model_steps_1200.pt \\\n",
    "    --vocab /home/shariff/layers/pytorchic-bert-2/uncased_L-2_H-128_A-2/vocab.txt \\\n",
    "    --save_dir /data/shariff/bert_tiny/output_leaky_210/ \\\n",
    "    --max_len 128"
   ]
  },
  {
   "cell_type": "code",
   "execution_count": 5,
   "id": "644d49ed",
   "metadata": {},
   "outputs": [
    {
     "name": "stdout",
     "output_type": "stream",
     "text": [
      "cuda (1 GPUs)\n",
      "Loading the model from /data/shariff/bert_tiny/output_leaky_210/model_steps_100.pt\n",
      "Iter(acc=0.750): 100%|██████████████████████████| 13/13 [00:00<00:00, 23.29it/s]\n",
      "Accuracy: 0.6568627953529358\n"
     ]
    }
   ],
   "source": [
    "!python3 classify.py \\\n",
    "    --task mrpc \\\n",
    "    --mode eval \\\n",
    "    --train_cfg config/train_mrpc.json \\\n",
    "    --model_cfg config/bert_base.json \\\n",
    "    --data_file /home/shariff/glue_data/MRPC/dev.tsv \\\n",
    "    --model_file /data/shariff/bert_tiny/output_leaky_210/model_steps_100.pt \\\n",
    "    --vocab /home/shariff/layers/pytorchic-bert-2/uncased_L-2_H-128_A-2/vocab.txt \\\n",
    "    --max_len 128"
   ]
  },
  {
   "cell_type": "code",
   "execution_count": 6,
   "id": "583822cc",
   "metadata": {},
   "outputs": [
    {
     "name": "stdout",
     "output_type": "stream",
     "text": [
      "cuda (1 GPUs)\n",
      "Loading the model from /data/shariff/bert_tiny/output_leaky_210/model_steps_200.pt\n",
      "Iter(acc=0.750): 100%|██████████████████████████| 13/13 [00:00<00:00, 23.24it/s]\n",
      "Accuracy: 0.6617647409439087\n"
     ]
    }
   ],
   "source": [
    "!python3 classify.py \\\n",
    "    --task mrpc \\\n",
    "    --mode eval \\\n",
    "    --train_cfg config/train_mrpc.json \\\n",
    "    --model_cfg config/bert_base.json \\\n",
    "    --data_file /home/shariff/glue_data/MRPC/dev.tsv \\\n",
    "    --model_file /data/shariff/bert_tiny/output_leaky_210/model_steps_200.pt \\\n",
    "    --vocab /home/shariff/layers/pytorchic-bert-2/uncased_L-2_H-128_A-2/vocab.txt \\\n",
    "    --max_len 128"
   ]
  },
  {
   "cell_type": "code",
   "execution_count": 7,
   "id": "2ec19018",
   "metadata": {},
   "outputs": [
    {
     "name": "stdout",
     "output_type": "stream",
     "text": [
      "cuda (1 GPUs)\n",
      "Loading the model from /data/shariff/bert_tiny/output_leaky_210/model_steps_300.pt\n",
      "Iter(acc=0.833): 100%|██████████████████████████| 13/13 [00:00<00:00, 23.37it/s]\n",
      "Accuracy: 0.7156863212585449\n"
     ]
    }
   ],
   "source": [
    "!python3 classify.py \\\n",
    "    --task mrpc \\\n",
    "    --mode eval \\\n",
    "    --train_cfg config/train_mrpc.json \\\n",
    "    --model_cfg config/bert_base.json \\\n",
    "    --data_file /home/shariff/glue_data/MRPC/dev.tsv \\\n",
    "    --model_file /data/shariff/bert_tiny/output_leaky_210/model_steps_300.pt \\\n",
    "    --vocab /home/shariff/layers/pytorchic-bert-2/uncased_L-2_H-128_A-2/vocab.txt \\\n",
    "    --max_len 128"
   ]
  },
  {
   "cell_type": "code",
   "execution_count": 8,
   "id": "b63c0f45",
   "metadata": {},
   "outputs": [
    {
     "name": "stdout",
     "output_type": "stream",
     "text": [
      "cuda (1 GPUs)\n",
      "Loading the model from /data/shariff/bert_tiny/output_leaky_210/model_steps_400.pt\n",
      "Iter(acc=0.833): 100%|██████████████████████████| 13/13 [00:00<00:00, 23.44it/s]\n",
      "Accuracy: 0.6764706373214722\n"
     ]
    }
   ],
   "source": [
    "!python3 classify.py \\\n",
    "    --task mrpc \\\n",
    "    --mode eval \\\n",
    "    --train_cfg config/train_mrpc.json \\\n",
    "    --model_cfg config/bert_base.json \\\n",
    "    --data_file /home/shariff/glue_data/MRPC/dev.tsv \\\n",
    "    --model_file /data/shariff/bert_tiny/output_leaky_210/model_steps_400.pt \\\n",
    "    --vocab /home/shariff/layers/pytorchic-bert-2/uncased_L-2_H-128_A-2/vocab.txt \\\n",
    "    --max_len 128"
   ]
  },
  {
   "cell_type": "code",
   "execution_count": 9,
   "id": "d7947678",
   "metadata": {},
   "outputs": [
    {
     "name": "stdout",
     "output_type": "stream",
     "text": [
      "cuda (1 GPUs)\n",
      "Loading the model from /data/shariff/bert_tiny/output_leaky_210/model_steps_500.pt\n",
      "Iter(acc=0.875): 100%|██████████████████████████| 13/13 [00:00<00:00, 23.35it/s]\n",
      "Accuracy: 0.6887255311012268\n"
     ]
    }
   ],
   "source": [
    "!python3 classify.py \\\n",
    "    --task mrpc \\\n",
    "    --mode eval \\\n",
    "    --train_cfg config/train_mrpc.json \\\n",
    "    --model_cfg config/bert_base.json \\\n",
    "    --data_file /home/shariff/glue_data/MRPC/dev.tsv \\\n",
    "    --model_file /data/shariff/bert_tiny/output_leaky_210/model_steps_500.pt \\\n",
    "    --vocab /home/shariff/layers/pytorchic-bert-2/uncased_L-2_H-128_A-2/vocab.txt \\\n",
    "    --max_len 128"
   ]
  },
  {
   "cell_type": "code",
   "execution_count": 10,
   "id": "ec177f0a",
   "metadata": {},
   "outputs": [
    {
     "name": "stdout",
     "output_type": "stream",
     "text": [
      "cuda (1 GPUs)\n",
      "Loading the model from /data/shariff/bert_tiny/output_leaky_210/model_steps_600.pt\n",
      "Iter(acc=0.750): 100%|██████████████████████████| 13/13 [00:00<00:00, 23.46it/s]\n",
      "Accuracy: 0.6593137383460999\n"
     ]
    }
   ],
   "source": [
    "!python3 classify.py \\\n",
    "    --task mrpc \\\n",
    "    --mode eval \\\n",
    "    --train_cfg config/train_mrpc.json \\\n",
    "    --model_cfg config/bert_base.json \\\n",
    "    --data_file /home/shariff/glue_data/MRPC/dev.tsv \\\n",
    "    --model_file /data/shariff/bert_tiny/output_leaky_210/model_steps_600.pt \\\n",
    "    --vocab /home/shariff/layers/pytorchic-bert-2/uncased_L-2_H-128_A-2/vocab.txt \\\n",
    "    --max_len 128"
   ]
  },
  {
   "cell_type": "code",
   "execution_count": 11,
   "id": "d183ced9",
   "metadata": {},
   "outputs": [
    {
     "name": "stdout",
     "output_type": "stream",
     "text": [
      "cuda (1 GPUs)\n",
      "Loading the model from /data/shariff/bert_tiny/output_leaky_210/model_steps_700.pt\n",
      "Iter(acc=0.833): 100%|██████████████████████████| 13/13 [00:00<00:00, 23.35it/s]\n",
      "Accuracy: 0.6887255311012268\n"
     ]
    }
   ],
   "source": [
    "!python3 classify.py \\\n",
    "    --task mrpc \\\n",
    "    --mode eval \\\n",
    "    --train_cfg config/train_mrpc.json \\\n",
    "    --model_cfg config/bert_base.json \\\n",
    "    --data_file /home/shariff/glue_data/MRPC/dev.tsv \\\n",
    "    --model_file /data/shariff/bert_tiny/output_leaky_210/model_steps_700.pt \\\n",
    "    --vocab /home/shariff/layers/pytorchic-bert-2/uncased_L-2_H-128_A-2/vocab.txt \\\n",
    "    --max_len 128"
   ]
  },
  {
   "cell_type": "code",
   "execution_count": 12,
   "id": "cf7f6851",
   "metadata": {},
   "outputs": [
    {
     "name": "stdout",
     "output_type": "stream",
     "text": [
      "cuda (1 GPUs)\n",
      "Loading the model from /data/shariff/bert_tiny/output_leaky_210/model_steps_800.pt\n",
      "Iter(acc=0.833): 100%|██████████████████████████| 13/13 [00:00<00:00, 23.40it/s]\n",
      "Accuracy: 0.6764706373214722\n"
     ]
    }
   ],
   "source": [
    "!python3 classify.py \\\n",
    "    --task mrpc \\\n",
    "    --mode eval \\\n",
    "    --train_cfg config/train_mrpc.json \\\n",
    "    --model_cfg config/bert_base.json \\\n",
    "    --data_file /home/shariff/glue_data/MRPC/dev.tsv \\\n",
    "    --model_file /data/shariff/bert_tiny/output_leaky_210/model_steps_800.pt \\\n",
    "    --vocab /home/shariff/layers/pytorchic-bert-2/uncased_L-2_H-128_A-2/vocab.txt \\\n",
    "    --max_len 128"
   ]
  },
  {
   "cell_type": "code",
   "execution_count": 13,
   "id": "94ea2594",
   "metadata": {},
   "outputs": [
    {
     "name": "stdout",
     "output_type": "stream",
     "text": [
      "cuda (1 GPUs)\n",
      "Loading the model from /data/shariff/bert_tiny/output_leaky_210/model_steps_900.pt\n",
      "Iter(acc=0.875): 100%|██████████████████████████| 13/13 [00:00<00:00, 23.44it/s]\n",
      "Accuracy: 0.6960784792900085\n"
     ]
    }
   ],
   "source": [
    "!python3 classify.py \\\n",
    "    --task mrpc \\\n",
    "    --mode eval \\\n",
    "    --train_cfg config/train_mrpc.json \\\n",
    "    --model_cfg config/bert_base.json \\\n",
    "    --data_file /home/shariff/glue_data/MRPC/dev.tsv \\\n",
    "    --model_file /data/shariff/bert_tiny/output_leaky_210/model_steps_900.pt \\\n",
    "    --vocab /home/shariff/layers/pytorchic-bert-2/uncased_L-2_H-128_A-2/vocab.txt \\\n",
    "    --max_len 128"
   ]
  },
  {
   "cell_type": "code",
   "execution_count": 14,
   "id": "dd311506",
   "metadata": {},
   "outputs": [
    {
     "name": "stdout",
     "output_type": "stream",
     "text": [
      "cuda (1 GPUs)\n",
      "Loading the model from /data/shariff/bert_tiny/output_leaky_210/model_steps_1000.pt\n",
      "Iter(acc=0.833): 100%|██████████████████████████| 13/13 [00:00<00:00, 23.48it/s]\n",
      "Accuracy: 0.6887255311012268\n"
     ]
    }
   ],
   "source": [
    "!python3 classify.py \\\n",
    "    --task mrpc \\\n",
    "    --mode eval \\\n",
    "    --train_cfg config/train_mrpc.json \\\n",
    "    --model_cfg config/bert_base.json \\\n",
    "    --data_file /home/shariff/glue_data/MRPC/dev.tsv \\\n",
    "    --model_file /data/shariff/bert_tiny/output_leaky_210/model_steps_1000.pt \\\n",
    "    --vocab /home/shariff/layers/pytorchic-bert-2/uncased_L-2_H-128_A-2/vocab.txt \\\n",
    "    --max_len 128"
   ]
  },
  {
   "cell_type": "code",
   "execution_count": 15,
   "id": "bb91af69",
   "metadata": {},
   "outputs": [
    {
     "name": "stdout",
     "output_type": "stream",
     "text": [
      "cuda (1 GPUs)\n",
      "Loading the model from /data/shariff/bert_tiny/output_leaky_210/model_steps_1100.pt\n",
      "Iter(acc=0.875): 100%|██████████████████████████| 13/13 [00:00<00:00, 23.23it/s]\n",
      "Accuracy: 0.7009804248809814\n"
     ]
    }
   ],
   "source": [
    "!python3 classify.py \\\n",
    "    --task mrpc \\\n",
    "    --mode eval \\\n",
    "    --train_cfg config/train_mrpc.json \\\n",
    "    --model_cfg config/bert_base.json \\\n",
    "    --data_file /home/shariff/glue_data/MRPC/dev.tsv \\\n",
    "    --model_file /data/shariff/bert_tiny/output_leaky_210/model_steps_1100.pt \\\n",
    "    --vocab /home/shariff/layers/pytorchic-bert-2/uncased_L-2_H-128_A-2/vocab.txt \\\n",
    "    --max_len 128"
   ]
  },
  {
   "cell_type": "code",
   "execution_count": 16,
   "id": "4cfa8f7a",
   "metadata": {},
   "outputs": [
    {
     "name": "stdout",
     "output_type": "stream",
     "text": [
      "cuda (1 GPUs)\n",
      "Loading the model from /data/shariff/bert_tiny/output_leaky_210/model_steps_1200.pt\n",
      "Iter(acc=0.833): 100%|██████████████████████████| 13/13 [00:00<00:00, 22.94it/s]\n",
      "Accuracy: 0.7034313678741455\n"
     ]
    }
   ],
   "source": [
    "!python3 classify.py \\\n",
    "    --task mrpc \\\n",
    "    --mode eval \\\n",
    "    --train_cfg config/train_mrpc.json \\\n",
    "    --model_cfg config/bert_base.json \\\n",
    "    --data_file /home/shariff/glue_data/MRPC/dev.tsv \\\n",
    "    --model_file /data/shariff/bert_tiny/output_leaky_210/model_steps_1200.pt \\\n",
    "    --vocab /home/shariff/layers/pytorchic-bert-2/uncased_L-2_H-128_A-2/vocab.txt \\\n",
    "    --max_len 128"
   ]
  },
  {
   "cell_type": "code",
   "execution_count": 17,
   "id": "472a19e7",
   "metadata": {},
   "outputs": [
    {
     "name": "stdout",
     "output_type": "stream",
     "text": [
      "cuda (1 GPUs)\n",
      "Loading the model from /data/shariff/bert_tiny/output_leaky_210/model_steps_1300.pt\n",
      "Iter(acc=0.833): 100%|██████████████████████████| 13/13 [00:00<00:00, 23.28it/s]\n",
      "Accuracy: 0.6887255311012268\n"
     ]
    }
   ],
   "source": [
    "!python3 classify.py \\\n",
    "    --task mrpc \\\n",
    "    --mode eval \\\n",
    "    --train_cfg config/train_mrpc.json \\\n",
    "    --model_cfg config/bert_base.json \\\n",
    "    --data_file /home/shariff/glue_data/MRPC/dev.tsv \\\n",
    "    --model_file /data/shariff/bert_tiny/output_leaky_210/model_steps_1300.pt \\\n",
    "    --vocab /home/shariff/layers/pytorchic-bert-2/uncased_L-2_H-128_A-2/vocab.txt \\\n",
    "    --max_len 128"
   ]
  },
  {
   "cell_type": "code",
   "execution_count": 18,
   "id": "0a4f9a00",
   "metadata": {},
   "outputs": [
    {
     "name": "stdout",
     "output_type": "stream",
     "text": [
      "cuda (1 GPUs)\n",
      "Loading the model from /data/shariff/bert_tiny/output_leaky_210/model_steps_1400.pt\n",
      "Iter(acc=0.833): 100%|██████████████████████████| 13/13 [00:00<00:00, 23.29it/s]\n",
      "Accuracy: 0.7107843160629272\n"
     ]
    }
   ],
   "source": [
    "!python3 classify.py \\\n",
    "    --task mrpc \\\n",
    "    --mode eval \\\n",
    "    --train_cfg config/train_mrpc.json \\\n",
    "    --model_cfg config/bert_base.json \\\n",
    "    --data_file /home/shariff/glue_data/MRPC/dev.tsv \\\n",
    "    --model_file /data/shariff/bert_tiny/output_leaky_210/model_steps_1400.pt \\\n",
    "    --vocab /home/shariff/layers/pytorchic-bert-2/uncased_L-2_H-128_A-2/vocab.txt \\\n",
    "    --max_len 128"
   ]
  },
  {
   "cell_type": "code",
   "execution_count": 19,
   "id": "fd0293d1",
   "metadata": {},
   "outputs": [
    {
     "name": "stdout",
     "output_type": "stream",
     "text": [
      "cuda (1 GPUs)\n",
      "Loading the model from /data/shariff/bert_tiny/output_leaky_210/model_steps_1500.pt\n",
      "Iter(acc=0.833): 100%|██████████████████████████| 13/13 [00:00<00:00, 23.33it/s]\n",
      "Accuracy: 0.6838235259056091\n"
     ]
    }
   ],
   "source": [
    "!python3 classify.py \\\n",
    "    --task mrpc \\\n",
    "    --mode eval \\\n",
    "    --train_cfg config/train_mrpc.json \\\n",
    "    --model_cfg config/bert_base.json \\\n",
    "    --data_file /home/shariff/glue_data/MRPC/dev.tsv \\\n",
    "    --model_file /data/shariff/bert_tiny/output_leaky_210/model_steps_1500.pt \\\n",
    "    --vocab /home/shariff/layers/pytorchic-bert-2/uncased_L-2_H-128_A-2/vocab.txt \\\n",
    "    --max_len 128"
   ]
  },
  {
   "cell_type": "code",
   "execution_count": 20,
   "id": "86b1f65f",
   "metadata": {},
   "outputs": [
    {
     "name": "stdout",
     "output_type": "stream",
     "text": [
      "cuda (1 GPUs)\n",
      "Loading the model from /data/shariff/bert_tiny/output_leaky_210/model_steps_1600.pt\n",
      "Iter(acc=0.833): 100%|██████████████████████████| 13/13 [00:00<00:00, 23.45it/s]\n",
      "Accuracy: 0.7009804248809814\n"
     ]
    }
   ],
   "source": [
    "!python3 classify.py \\\n",
    "    --task mrpc \\\n",
    "    --mode eval \\\n",
    "    --train_cfg config/train_mrpc.json \\\n",
    "    --model_cfg config/bert_base.json \\\n",
    "    --data_file /home/shariff/glue_data/MRPC/dev.tsv \\\n",
    "    --model_file /data/shariff/bert_tiny/output_leaky_210/model_steps_1600.pt \\\n",
    "    --vocab /home/shariff/layers/pytorchic-bert-2/uncased_L-2_H-128_A-2/vocab.txt \\\n",
    "    --max_len 128"
   ]
  },
  {
   "cell_type": "code",
   "execution_count": 21,
   "id": "f78c0a84",
   "metadata": {},
   "outputs": [
    {
     "name": "stdout",
     "output_type": "stream",
     "text": [
      "cuda (1 GPUs)\n",
      "Loading the model from /data/shariff/bert_tiny/output_leaky_210/model_steps_1700.pt\n",
      "Iter(acc=0.833): 100%|██████████████████████████| 13/13 [00:00<00:00, 23.21it/s]\n",
      "Accuracy: 0.6936274766921997\n"
     ]
    }
   ],
   "source": [
    "!python3 classify.py \\\n",
    "    --task mrpc \\\n",
    "    --mode eval \\\n",
    "    --train_cfg config/train_mrpc.json \\\n",
    "    --model_cfg config/bert_base.json \\\n",
    "    --data_file /home/shariff/glue_data/MRPC/dev.tsv \\\n",
    "    --model_file /data/shariff/bert_tiny/output_leaky_210/model_steps_1700.pt \\\n",
    "    --vocab /home/shariff/layers/pytorchic-bert-2/uncased_L-2_H-128_A-2/vocab.txt \\\n",
    "    --max_len 128"
   ]
  },
  {
   "cell_type": "code",
   "execution_count": 22,
   "id": "f1734e94",
   "metadata": {},
   "outputs": [
    {
     "name": "stdout",
     "output_type": "stream",
     "text": [
      "cuda (1 GPUs)\n",
      "Loading the model from /data/shariff/bert_tiny/output_leaky_210/model_steps_1800.pt\n",
      "Iter(acc=0.833): 100%|██████████████████████████| 13/13 [00:00<00:00, 23.29it/s]\n",
      "Accuracy: 0.6887255311012268\n"
     ]
    }
   ],
   "source": [
    "!python3 classify.py \\\n",
    "    --task mrpc \\\n",
    "    --mode eval \\\n",
    "    --train_cfg config/train_mrpc.json \\\n",
    "    --model_cfg config/bert_base.json \\\n",
    "    --data_file /home/shariff/glue_data/MRPC/dev.tsv \\\n",
    "    --model_file /data/shariff/bert_tiny/output_leaky_210/model_steps_1800.pt \\\n",
    "    --vocab /home/shariff/layers/pytorchic-bert-2/uncased_L-2_H-128_A-2/vocab.txt \\\n",
    "    --max_len 128"
   ]
  },
  {
   "cell_type": "code",
   "execution_count": 23,
   "id": "74455068",
   "metadata": {},
   "outputs": [
    {
     "name": "stdout",
     "output_type": "stream",
     "text": [
      "cuda (1 GPUs)\n",
      "Loading the model from /data/shariff/bert_tiny/output_leaky_210/model_steps_1900.pt\n",
      "Iter(acc=0.833): 100%|██████████████████████████| 13/13 [00:00<00:00, 23.21it/s]\n",
      "Accuracy: 0.6813725829124451\n"
     ]
    }
   ],
   "source": [
    "!python3 classify.py \\\n",
    "    --task mrpc \\\n",
    "    --mode eval \\\n",
    "    --train_cfg config/train_mrpc.json \\\n",
    "    --model_cfg config/bert_base.json \\\n",
    "    --data_file /home/shariff/glue_data/MRPC/dev.tsv \\\n",
    "    --model_file /data/shariff/bert_tiny/output_leaky_210/model_steps_1900.pt \\\n",
    "    --vocab /home/shariff/layers/pytorchic-bert-2/uncased_L-2_H-128_A-2/vocab.txt \\\n",
    "    --max_len 128"
   ]
  },
  {
   "cell_type": "code",
   "execution_count": 24,
   "id": "34d2d880",
   "metadata": {},
   "outputs": [
    {
     "name": "stdout",
     "output_type": "stream",
     "text": [
      "cuda (1 GPUs)\n",
      "Loading the model from /data/shariff/bert_tiny/output_leaky_210/model_steps_2000.pt\n",
      "Iter(acc=0.833): 100%|██████████████████████████| 13/13 [00:00<00:00, 22.92it/s]\n",
      "Accuracy: 0.686274528503418\n"
     ]
    }
   ],
   "source": [
    "!python3 classify.py \\\n",
    "    --task mrpc \\\n",
    "    --mode eval \\\n",
    "    --train_cfg config/train_mrpc.json \\\n",
    "    --model_cfg config/bert_base.json \\\n",
    "    --data_file /home/shariff/glue_data/MRPC/dev.tsv \\\n",
    "    --model_file /data/shariff/bert_tiny/output_leaky_210/model_steps_2000.pt \\\n",
    "    --vocab /home/shariff/layers/pytorchic-bert-2/uncased_L-2_H-128_A-2/vocab.txt \\\n",
    "    --max_len 128"
   ]
  },
  {
   "cell_type": "code",
   "execution_count": 25,
   "id": "4256f769",
   "metadata": {},
   "outputs": [
    {
     "name": "stdout",
     "output_type": "stream",
     "text": [
      "cuda (1 GPUs)\n",
      "Loading the model from /data/shariff/bert_tiny/output_leaky_210/model_steps_2100.pt\n",
      "Iter(acc=0.833): 100%|██████████████████████████| 13/13 [00:00<00:00, 23.34it/s]\n",
      "Accuracy: 0.6911764740943909\n"
     ]
    }
   ],
   "source": [
    "!python3 classify.py \\\n",
    "    --task mrpc \\\n",
    "    --mode eval \\\n",
    "    --train_cfg config/train_mrpc.json \\\n",
    "    --model_cfg config/bert_base.json \\\n",
    "    --data_file /home/shariff/glue_data/MRPC/dev.tsv \\\n",
    "    --model_file /data/shariff/bert_tiny/output_leaky_210/model_steps_2100.pt \\\n",
    "    --vocab /home/shariff/layers/pytorchic-bert-2/uncased_L-2_H-128_A-2/vocab.txt \\\n",
    "    --max_len 128"
   ]
  },
  {
   "cell_type": "code",
   "execution_count": 26,
   "id": "53b57334",
   "metadata": {},
   "outputs": [
    {
     "name": "stdout",
     "output_type": "stream",
     "text": [
      "cuda (1 GPUs)\n",
      "Loading the model from /data/shariff/bert_tiny/output_leaky_210/model_steps_2200.pt\n",
      "Iter(acc=0.833): 100%|██████████████████████████| 13/13 [00:00<00:00, 23.38it/s]\n",
      "Accuracy: 0.6887255311012268\n"
     ]
    }
   ],
   "source": [
    "!python3 classify.py \\\n",
    "    --task mrpc \\\n",
    "    --mode eval \\\n",
    "    --train_cfg config/train_mrpc.json \\\n",
    "    --model_cfg config/bert_base.json \\\n",
    "    --data_file /home/shariff/glue_data/MRPC/dev.tsv \\\n",
    "    --model_file /data/shariff/bert_tiny/output_leaky_210/model_steps_2200.pt \\\n",
    "    --vocab /home/shariff/layers/pytorchic-bert-2/uncased_L-2_H-128_A-2/vocab.txt \\\n",
    "    --max_len 128"
   ]
  },
  {
   "cell_type": "code",
   "execution_count": 27,
   "id": "a57f5c16",
   "metadata": {},
   "outputs": [
    {
     "name": "stdout",
     "output_type": "stream",
     "text": [
      "cuda (1 GPUs)\n",
      "Loading the model from /data/shariff/bert_tiny/output_leaky_210/model_steps_2300.pt\n",
      "Iter(acc=0.833): 100%|██████████████████████████| 13/13 [00:00<00:00, 23.17it/s]\n",
      "Accuracy: 0.6813725829124451\n"
     ]
    }
   ],
   "source": [
    "!python3 classify.py \\\n",
    "    --task mrpc \\\n",
    "    --mode eval \\\n",
    "    --train_cfg config/train_mrpc.json \\\n",
    "    --model_cfg config/bert_base.json \\\n",
    "    --data_file /home/shariff/glue_data/MRPC/dev.tsv \\\n",
    "    --model_file /data/shariff/bert_tiny/output_leaky_210/model_steps_2300.pt \\\n",
    "    --vocab /home/shariff/layers/pytorchic-bert-2/uncased_L-2_H-128_A-2/vocab.txt \\\n",
    "    --max_len 128"
   ]
  },
  {
   "cell_type": "code",
   "execution_count": 28,
   "id": "c1288137",
   "metadata": {},
   "outputs": [
    {
     "name": "stdout",
     "output_type": "stream",
     "text": [
      "cuda (1 GPUs)\n",
      "Loading the model from /data/shariff/bert_tiny/output_leaky_210/model_steps_2400.pt\n",
      "Iter(acc=0.833): 100%|██████████████████████████| 13/13 [00:00<00:00, 23.24it/s]\n",
      "Accuracy: 0.6911764740943909\n"
     ]
    }
   ],
   "source": [
    "!python3 classify.py \\\n",
    "    --task mrpc \\\n",
    "    --mode eval \\\n",
    "    --train_cfg config/train_mrpc.json \\\n",
    "    --model_cfg config/bert_base.json \\\n",
    "    --data_file /home/shariff/glue_data/MRPC/dev.tsv \\\n",
    "    --model_file /data/shariff/bert_tiny/output_leaky_210/model_steps_2400.pt \\\n",
    "    --vocab /home/shariff/layers/pytorchic-bert-2/uncased_L-2_H-128_A-2/vocab.txt \\\n",
    "    --max_len 128"
   ]
  },
  {
   "cell_type": "code",
   "execution_count": 29,
   "id": "98af52c5",
   "metadata": {},
   "outputs": [
    {
     "name": "stdout",
     "output_type": "stream",
     "text": [
      "cuda (1 GPUs)\n",
      "Loading the model from /data/shariff/bert_tiny/output_leaky_210/model_steps_2500.pt\n",
      "Iter(acc=0.833): 100%|██████████████████████████| 13/13 [00:00<00:00, 23.44it/s]\n",
      "Accuracy: 0.6887255311012268\n"
     ]
    }
   ],
   "source": [
    "!python3 classify.py \\\n",
    "    --task mrpc \\\n",
    "    --mode eval \\\n",
    "    --train_cfg config/train_mrpc.json \\\n",
    "    --model_cfg config/bert_base.json \\\n",
    "    --data_file /home/shariff/glue_data/MRPC/dev.tsv \\\n",
    "    --model_file /data/shariff/bert_tiny/output_leaky_210/model_steps_2500.pt \\\n",
    "    --vocab /home/shariff/layers/pytorchic-bert-2/uncased_L-2_H-128_A-2/vocab.txt \\\n",
    "    --max_len 128"
   ]
  },
  {
   "cell_type": "code",
   "execution_count": 30,
   "id": "7fa96e9e",
   "metadata": {},
   "outputs": [
    {
     "name": "stdout",
     "output_type": "stream",
     "text": [
      "cuda (1 GPUs)\n",
      "Loading the model from /data/shariff/bert_tiny/output_leaky_210/model_steps_2600.pt\n",
      "Iter(acc=0.833): 100%|██████████████████████████| 13/13 [00:00<00:00, 22.86it/s]\n",
      "Accuracy: 0.6887255311012268\n"
     ]
    }
   ],
   "source": [
    "!python3 classify.py \\\n",
    "    --task mrpc \\\n",
    "    --mode eval \\\n",
    "    --train_cfg config/train_mrpc.json \\\n",
    "    --model_cfg config/bert_base.json \\\n",
    "    --data_file /home/shariff/glue_data/MRPC/dev.tsv \\\n",
    "    --model_file /data/shariff/bert_tiny/output_leaky_210/model_steps_2600.pt \\\n",
    "    --vocab /home/shariff/layers/pytorchic-bert-2/uncased_L-2_H-128_A-2/vocab.txt \\\n",
    "    --max_len 128"
   ]
  },
  {
   "cell_type": "code",
   "execution_count": 31,
   "id": "21ce6e4b",
   "metadata": {},
   "outputs": [
    {
     "name": "stdout",
     "output_type": "stream",
     "text": [
      "cuda (1 GPUs)\n",
      "Loading the model from /data/shariff/bert_tiny/output_leaky_210/model_steps_2700.pt\n",
      "Iter(acc=0.833): 100%|██████████████████████████| 13/13 [00:00<00:00, 23.02it/s]\n",
      "Accuracy: 0.6887255311012268\n"
     ]
    }
   ],
   "source": [
    "!python3 classify.py \\\n",
    "    --task mrpc \\\n",
    "    --mode eval \\\n",
    "    --train_cfg config/train_mrpc.json \\\n",
    "    --model_cfg config/bert_base.json \\\n",
    "    --data_file /home/shariff/glue_data/MRPC/dev.tsv \\\n",
    "    --model_file /data/shariff/bert_tiny/output_leaky_210/model_steps_2700.pt \\\n",
    "    --vocab /home/shariff/layers/pytorchic-bert-2/uncased_L-2_H-128_A-2/vocab.txt \\\n",
    "    --max_len 128"
   ]
  },
  {
   "cell_type": "code",
   "execution_count": null,
   "id": "47a5ed7f",
   "metadata": {},
   "outputs": [],
   "source": [
    "# !python3 classify.py \\\n",
    "#     --task mrpc \\\n",
    "#     --mode eval \\\n",
    "#     --train_cfg config/train_mrpc.json \\\n",
    "#     --model_cfg config/bert_base.json \\\n",
    "#     --data_file /home/shariff/glue_data/MRPC/dev.tsv \\\n",
    "#     --model_file /data/shariff/bert_tiny/output/model_steps_1400.pt \\\n",
    "#     --vocab /home/shariff/layers/pytorchic-bert-2/uncased_L-2_H-128_A-2/vocab.txt \\\n",
    "#     --max_len 128"
   ]
  },
  {
   "cell_type": "code",
   "execution_count": null,
   "id": "9411832d",
   "metadata": {},
   "outputs": [],
   "source": [
    "# !python3 classify.py \\\n",
    "#     --task mrpc \\\n",
    "#     --mode eval \\\n",
    "#     --train_cfg config/train_mrpc.json \\\n",
    "#     --model_cfg config/bert_base.json \\\n",
    "#     --data_file /home/shariff/glue_data/MRPC/dev.tsv \\\n",
    "#     --model_file /data/shariff/bert_test_layer2/output_leaky_000/model_steps_600.pt \\\n",
    "#     --vocab /home/shariff/layers/pytorchic-bert/uncased_L-12_H-768_A-12/vocab.txt \\\n",
    "#     --max_len 128"
   ]
  },
  {
   "cell_type": "code",
   "execution_count": null,
   "id": "842f6201",
   "metadata": {},
   "outputs": [],
   "source": [
    "# !python3 classify.py \\\n",
    "#     --task mrpc \\\n",
    "#     --mode eval \\\n",
    "#     --train_cfg config/train_mrpc.json \\\n",
    "#     --model_cfg config/bert_base.json \\\n",
    "#     --data_file /home/shariff/glue_data/MRPC/dev.tsv \\\n",
    "#     --model_file /data/shariff/bert_test/output_leaky_100/compressed_model.pt \\\n",
    "#     --vocab /home/shariff/layers/pytorchic-bert/uncased_L-12_H-768_A-12/vocab.txt \\\n",
    "#     --max_len 128"
   ]
  },
  {
   "cell_type": "code",
   "execution_count": null,
   "id": "7eaefbf2",
   "metadata": {},
   "outputs": [],
   "source": [
    "# !python3 classify.py \\\n",
    "#     --task mrpc \\\n",
    "#     --mode eval \\\n",
    "#     --train_cfg config/train_mrpc.json \\\n",
    "#     --model_cfg config/bert_base.json \\\n",
    "#     --data_file /home/shariff/glue_data/MRPC/dev.tsv \\\n",
    "#     --model_file /data/shariff/bert_test/output_leaky_100/model_steps_690.pt \\\n",
    "#     --vocab /home/shariff/layers/pytorchic-bert/uncased_L-12_H-768_A-12/vocab.txt \\\n",
    "#     --max_len 128"
   ]
  },
  {
   "cell_type": "code",
   "execution_count": null,
   "id": "5486aeb6",
   "metadata": {},
   "outputs": [],
   "source": [
    "# !python3 classify.py \\\n",
    "#     --task mrpc \\\n",
    "#     --mode eval \\\n",
    "#     --train_cfg config/train_mrpc.json \\\n",
    "#     --model_cfg config/bert_base.json \\\n",
    "#     --data_file /home/shariff/glue_data/MRPC/dev.tsv \\\n",
    "#     --model_file /data/shariff/output/model_steps_345.pt \\\n",
    "#     --vocab /home/shariff/layers/pytorchic-bert/uncased_L-12_H-768_A-12/vocab.txt \\\n",
    "#     --max_len 128"
   ]
  },
  {
   "cell_type": "code",
   "execution_count": null,
   "id": "8cd54541",
   "metadata": {},
   "outputs": [],
   "source": [
    "# !python3 classify.py \\\n",
    "#     --task mrpc \\\n",
    "#     --mode eval \\\n",
    "#     --train_cfg config/train_mrpc.json \\\n",
    "#     --model_cfg config/bert_base.json \\\n",
    "#     --data_file /home/shariff/glue_data/MRPC/dev.tsv \\\n",
    "#     --model_file /data/shariff/bert_test_layer2/output_leaky_100/compressed_model.pt \\\n",
    "#     --vocab /home/shariff/layers/pytorchic-bert/uncased_L-12_H-768_A-12/vocab.txt \\\n",
    "#     --max_len 128"
   ]
  },
  {
   "cell_type": "code",
   "execution_count": null,
   "id": "2e7b5174",
   "metadata": {},
   "outputs": [],
   "source": [
    "#         vector<int> ans;\n",
    "#         if (nums.size() == 2) {\n",
    "#             ans.push_back(nums[1]);\n",
    "#             ans.push_back(nums[0]);\n",
    "#             return ans;\n",
    "#         }\n",
    "#         vector<int> prefix(nums.size(),0);\n",
    "#         vector<int> suffix(nums.size(),0);\n",
    "#         int curr = 1;\n",
    "#         for (int i = 0; i < nums.size(); i++) {\n",
    "#             curr = curr * nums[i];\n",
    "#             prefix[i] = curr;\n",
    "#         }\n",
    "#         curr = 1;\n",
    "#         for (int i = nums.size()-1; i > -1; i--) {\n",
    "#             curr = curr * nums[i];\n",
    "#             suffix[i] = curr;\n",
    "#         }\n",
    "#         ans.push_back(suffix[1]);\n",
    "#         for (int i = 0; i < nums.size()-2; i++) {\n",
    "#             ans.push_back(prefix[i]*suffix[i+2]);\n",
    "#         }\n",
    "#         ans.push_back(prefix[nums.size()-2]);\n",
    "#         return ans;"
   ]
  }
 ],
 "metadata": {
  "kernelspec": {
   "display_name": "Python 3 (ipykernel)",
   "language": "python",
   "name": "python3"
  },
  "language_info": {
   "codemirror_mode": {
    "name": "ipython",
    "version": 3
   },
   "file_extension": ".py",
   "mimetype": "text/x-python",
   "name": "python",
   "nbconvert_exporter": "python",
   "pygments_lexer": "ipython3",
   "version": "3.8.10"
  }
 },
 "nbformat": 4,
 "nbformat_minor": 5
}
