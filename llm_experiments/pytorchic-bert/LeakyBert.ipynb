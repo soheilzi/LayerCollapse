{
 "cells": [
  {
   "cell_type": "code",
   "execution_count": 1,
   "id": "ac398503",
   "metadata": {},
   "outputs": [],
   "source": [
    "# !export CUDA_VISIBLE_DEVICES=2\n",
    "# !export GLUE_DIR=/home/shariff/glue_data\n",
    "# !export BERT_PRETRAIN=data/shariff/bert_test_layer2/output_leaky_010/model_steps_805.pt\n",
    "# !export SAVE_DIR=/data/shariff/bert_test_layer2/output_leaky_020"
   ]
  },
  {
   "cell_type": "code",
   "execution_count": 2,
   "id": "f49ab226",
   "metadata": {},
   "outputs": [],
   "source": [
    "!mkdir -p /data/shariff/bert_test_layer8/output_leaky_100\n",
    "!rm -rf /data/shariff/bert_test_layer8/output_leaky_100/*"
   ]
  },
  {
   "cell_type": "code",
   "execution_count": 3,
   "id": "a3f566f4",
   "metadata": {},
   "outputs": [],
   "source": [
    "import os\n",
    "os.environ[\"CUDA_VISIBLE_DEVICES\"]=\"2\""
   ]
  },
  {
   "cell_type": "code",
   "execution_count": 4,
   "id": "df400c90",
   "metadata": {
    "scrolled": false
   },
   "outputs": [
    {
     "name": "stdout",
     "output_type": "stream",
     "text": [
      "cuda (1 GPUs)\n",
      "Classifier(\n",
      "  (transformer): Transformer(\n",
      "    (embed): Embeddings(\n",
      "      (tok_embed): Embedding(30522, 768)\n",
      "      (pos_embed): Embedding(512, 768)\n",
      "      (seg_embed): Embedding(2, 768)\n",
      "      (norm): LayerNorm()\n",
      "      (drop): Dropout(p=0.1, inplace=False)\n",
      "    )\n",
      "    (blocks): ModuleList(\n",
      "      (0-3): 4 x Block(\n",
      "        (attn): MultiHeadedSelfAttention(\n",
      "          (proj_q): Linear(in_features=768, out_features=768, bias=True)\n",
      "          (proj_k): Linear(in_features=768, out_features=768, bias=True)\n",
      "          (proj_v): Linear(in_features=768, out_features=768, bias=True)\n",
      "          (drop): Dropout(p=0.1, inplace=False)\n",
      "        )\n",
      "        (proj): Linear(in_features=768, out_features=768, bias=True)\n",
      "        (norm1): LayerNorm()\n",
      "        (pwff): PositionWiseFeedForward(\n",
      "          (fc1): Linear(in_features=768, out_features=3072, bias=True)\n",
      "          (fc2): Linear(in_features=3072, out_features=768, bias=True)\n",
      "        )\n",
      "        (norm2): LayerNorm()\n",
      "        (drop): Dropout(p=0.1, inplace=False)\n",
      "      )\n",
      "      (4): BlockLeaky(\n",
      "        (attn): MultiHeadedSelfAttention(\n",
      "          (proj_q): Linear(in_features=768, out_features=768, bias=True)\n",
      "          (proj_k): Linear(in_features=768, out_features=768, bias=True)\n",
      "          (proj_v): Linear(in_features=768, out_features=768, bias=True)\n",
      "          (drop): Dropout(p=0.1, inplace=False)\n",
      "        )\n",
      "        (proj): Linear(in_features=768, out_features=768, bias=True)\n",
      "        (norm1): LayerNorm()\n",
      "        (pwff): PositionWiseFeedForwardLeaky(\n",
      "          (fc1): Linear(in_features=768, out_features=3072, bias=True)\n",
      "          (fc2): Linear(in_features=3072, out_features=768, bias=True)\n",
      "        )\n",
      "        (norm2): LayerNorm()\n",
      "        (drop): Dropout(p=0.1, inplace=False)\n",
      "      )\n",
      "      (5-11): 7 x BlockIdentity(\n",
      "        (attn): MultiHeadedSelfAttention(\n",
      "          (proj_q): Linear(in_features=768, out_features=768, bias=True)\n",
      "          (proj_k): Linear(in_features=768, out_features=768, bias=True)\n",
      "          (proj_v): Linear(in_features=768, out_features=768, bias=True)\n",
      "          (drop): Dropout(p=0.1, inplace=False)\n",
      "        )\n",
      "        (proj): Linear(in_features=768, out_features=768, bias=True)\n",
      "        (norm1): LayerNorm()\n",
      "        (pwff): PositionWiseFeedForwardIdentity(\n",
      "          (fc1): Identity()\n",
      "          (fc2): Linear(in_features=768, out_features=768, bias=True)\n",
      "        )\n",
      "        (norm2): LayerNorm()\n",
      "        (drop): Dropout(p=0.1, inplace=False)\n",
      "      )\n",
      "    )\n",
      "  )\n",
      "  (fc): Linear(in_features=768, out_features=768, bias=True)\n",
      "  (activ): Tanh()\n",
      "  (drop): Dropout(p=0.1, inplace=False)\n",
      "  (classifier): Linear(in_features=768, out_features=2, bias=True)\n",
      ")\n",
      "Loading the pretrained model from /data/shariff/bert_test_layer8/output_leaky_000/model_steps_690.pt\n",
      "Iter (loss=X.XXX):   0%|                                | 0/115 [00:00<?, ?it/s]/home/shariff/layers/pytorchic-bert/optim.py:115: UserWarning: This overload of add_ is deprecated:\n",
      "\tadd_(Number alpha, Tensor other)\n",
      "Consider using one of the following signatures instead:\n",
      "\tadd_(Tensor other, *, Number alpha) (Triggered internally at ../torch/csrc/utils/python_arg_parser.cpp:1485.)\n",
      "  next_m.mul_(beta1).add_(1 - beta1, grad)\n",
      "Iter (loss=0.004): 100%|██████████████████████| 115/115 [00:22<00:00,  5.11it/s]\n",
      "Epoch 1/24 : Average Loss 0.144\n",
      "Iter (loss=0.001): 100%|██████████████████████| 115/115 [00:22<00:00,  5.18it/s]\n",
      "Epoch 2/24 : Average Loss 0.006\n",
      "Iter (loss=0.000): 100%|██████████████████████| 115/115 [00:22<00:00,  5.16it/s]\n",
      "Epoch 3/24 : Average Loss 0.004\n",
      "Iter (loss=0.000): 100%|██████████████████████| 115/115 [00:22<00:00,  5.16it/s]\n",
      "Epoch 4/24 : Average Loss 0.000\n",
      "Iter (loss=0.000): 100%|██████████████████████| 115/115 [00:22<00:00,  5.16it/s]\n",
      "Epoch 5/24 : Average Loss 0.000\n",
      "Iter (loss=0.000): 100%|██████████████████████| 115/115 [00:22<00:00,  5.15it/s]\n",
      "Epoch 6/24 : Average Loss 0.008\n",
      "Iter (loss=0.000): 100%|██████████████████████| 115/115 [00:22<00:00,  5.16it/s]\n",
      "Epoch 7/24 : Average Loss 0.004\n",
      "Iter (loss=0.000): 100%|██████████████████████| 115/115 [00:22<00:00,  5.13it/s]\n",
      "Epoch 8/24 : Average Loss 0.001\n",
      "Iter (loss=0.001): 100%|██████████████████████| 115/115 [00:22<00:00,  5.15it/s]\n",
      "Epoch 9/24 : Average Loss 0.003\n",
      "Iter (loss=0.000): 100%|██████████████████████| 115/115 [00:22<00:00,  5.15it/s]\n",
      "Epoch 10/24 : Average Loss 0.005\n",
      "Iter (loss=0.000): 100%|██████████████████████| 115/115 [00:22<00:00,  5.15it/s]\n",
      "Epoch 11/24 : Average Loss 0.000\n",
      "Iter (loss=0.000): 100%|██████████████████████| 115/115 [00:22<00:00,  5.13it/s]\n",
      "Epoch 12/24 : Average Loss 0.002\n",
      "Iter (loss=0.000): 100%|██████████████████████| 115/115 [00:22<00:00,  5.12it/s]\n",
      "Epoch 13/24 : Average Loss 0.000\n",
      "Iter (loss=0.000): 100%|██████████████████████| 115/115 [00:22<00:00,  5.11it/s]\n",
      "Epoch 14/24 : Average Loss 0.000\n",
      "Iter (loss=0.000): 100%|██████████████████████| 115/115 [00:22<00:00,  5.12it/s]\n",
      "Epoch 15/24 : Average Loss 0.000\n",
      "Iter (loss=0.005): 100%|██████████████████████| 115/115 [00:22<00:00,  5.11it/s]\n",
      "Epoch 16/24 : Average Loss 0.003\n",
      "Iter (loss=0.000): 100%|██████████████████████| 115/115 [00:22<00:00,  5.12it/s]\n",
      "Epoch 17/24 : Average Loss 0.000\n",
      "Iter (loss=0.000): 100%|██████████████████████| 115/115 [00:22<00:00,  5.12it/s]\n",
      "Epoch 18/24 : Average Loss 0.000\n",
      "Iter (loss=0.000): 100%|██████████████████████| 115/115 [00:22<00:00,  5.10it/s]\n",
      "Epoch 19/24 : Average Loss 0.000\n",
      "Iter (loss=0.000): 100%|██████████████████████| 115/115 [00:22<00:00,  5.12it/s]\n",
      "Epoch 20/24 : Average Loss 0.001\n",
      "Iter (loss=0.000): 100%|██████████████████████| 115/115 [00:22<00:00,  5.12it/s]\n",
      "Epoch 21/24 : Average Loss 0.000\n",
      "Iter (loss=0.000): 100%|██████████████████████| 115/115 [00:22<00:00,  5.13it/s]\n",
      "Epoch 22/24 : Average Loss 0.000\n",
      "Iter (loss=0.000): 100%|██████████████████████| 115/115 [00:22<00:00,  5.14it/s]\n",
      "Epoch 23/24 : Average Loss 0.000\n",
      "Iter (loss=0.000): 100%|██████████████████████| 115/115 [00:22<00:00,  5.15it/s]\n",
      "Epoch 24/24 : Average Loss 0.000\n"
     ]
    }
   ],
   "source": [
    "!python3 classify.py \\\n",
    "    --task mrpc \\\n",
    "    --mode train \\\n",
    "    --train_cfg config/train_mrpc.json \\\n",
    "    --model_cfg config/bert_base.json \\\n",
    "    --data_file /home/shariff/glue_data/MRPC/train.tsv \\\n",
    "    --pretrain_file /data/shariff/bert_test_layer8/output_leaky_000/model_steps_690.pt \\\n",
    "    --vocab /home/shariff/layers/pytorchic-bert/uncased_L-12_H-768_A-12/vocab.txt \\\n",
    "    --save_dir /data/shariff/bert_test_layer8/output_leaky_100 \\\n",
    "    --max_len 128"
   ]
  },
  {
   "cell_type": "code",
   "execution_count": 5,
   "id": "644d49ed",
   "metadata": {},
   "outputs": [
    {
     "name": "stdout",
     "output_type": "stream",
     "text": [
      "cuda (1 GPUs)\n",
      "Loading the model from /data/shariff/bert_test_layer8/output_leaky_100/model_steps_115.pt\n",
      "Iter(acc=0.917): 100%|██████████████████████████| 13/13 [00:01<00:00, 11.83it/s]\n",
      "Accuracy: 0.7843137383460999\n"
     ]
    }
   ],
   "source": [
    "!python3 classify.py \\\n",
    "    --task mrpc \\\n",
    "    --mode eval \\\n",
    "    --train_cfg config/train_mrpc.json \\\n",
    "    --model_cfg config/bert_base.json \\\n",
    "    --data_file /home/shariff/glue_data/MRPC/dev.tsv \\\n",
    "    --model_file /data/shariff/bert_test_layer8/output_leaky_100/model_steps_115.pt \\\n",
    "    --vocab /home/shariff/layers/pytorchic-bert/uncased_L-12_H-768_A-12/vocab.txt \\\n",
    "    --max_len 128"
   ]
  },
  {
   "cell_type": "code",
   "execution_count": 6,
   "id": "583822cc",
   "metadata": {},
   "outputs": [
    {
     "name": "stdout",
     "output_type": "stream",
     "text": [
      "cuda (1 GPUs)\n",
      "Loading the model from /data/shariff/bert_test_layer8/output_leaky_100/model_steps_230.pt\n",
      "Iter(acc=0.958): 100%|██████████████████████████| 13/13 [00:01<00:00,  8.76it/s]\n",
      "Accuracy: 0.7720588445663452\n"
     ]
    }
   ],
   "source": [
    "!python3 classify.py \\\n",
    "    --task mrpc \\\n",
    "    --mode eval \\\n",
    "    --train_cfg config/train_mrpc.json \\\n",
    "    --model_cfg config/bert_base.json \\\n",
    "    --data_file /home/shariff/glue_data/MRPC/dev.tsv \\\n",
    "    --model_file /data/shariff/bert_test_layer8/output_leaky_100/model_steps_230.pt \\\n",
    "    --vocab /home/shariff/layers/pytorchic-bert/uncased_L-12_H-768_A-12/vocab.txt \\\n",
    "    --max_len 128"
   ]
  },
  {
   "cell_type": "code",
   "execution_count": 7,
   "id": "2ec19018",
   "metadata": {},
   "outputs": [
    {
     "name": "stdout",
     "output_type": "stream",
     "text": [
      "cuda (1 GPUs)\n",
      "Loading the model from /data/shariff/bert_test_layer8/output_leaky_100/model_steps_345.pt\n",
      "Iter(acc=0.917): 100%|██████████████████████████| 13/13 [00:01<00:00, 11.71it/s]\n",
      "Accuracy: 0.774509847164154\n"
     ]
    }
   ],
   "source": [
    "!python3 classify.py \\\n",
    "    --task mrpc \\\n",
    "    --mode eval \\\n",
    "    --train_cfg config/train_mrpc.json \\\n",
    "    --model_cfg config/bert_base.json \\\n",
    "    --data_file /home/shariff/glue_data/MRPC/dev.tsv \\\n",
    "    --model_file /data/shariff/bert_test_layer8/output_leaky_100/model_steps_345.pt \\\n",
    "    --vocab /home/shariff/layers/pytorchic-bert/uncased_L-12_H-768_A-12/vocab.txt \\\n",
    "    --max_len 128"
   ]
  },
  {
   "cell_type": "code",
   "execution_count": 8,
   "id": "b63c0f45",
   "metadata": {},
   "outputs": [
    {
     "name": "stdout",
     "output_type": "stream",
     "text": [
      "cuda (1 GPUs)\n",
      "Loading the model from /data/shariff/bert_test_layer8/output_leaky_100/model_steps_460.pt\n",
      "Iter(acc=0.958): 100%|██████████████████████████| 13/13 [00:01<00:00,  8.83it/s]\n",
      "Accuracy: 0.7941176891326904\n"
     ]
    }
   ],
   "source": [
    "!python3 classify.py \\\n",
    "    --task mrpc \\\n",
    "    --mode eval \\\n",
    "    --train_cfg config/train_mrpc.json \\\n",
    "    --model_cfg config/bert_base.json \\\n",
    "    --data_file /home/shariff/glue_data/MRPC/dev.tsv \\\n",
    "    --model_file /data/shariff/bert_test_layer8/output_leaky_100/model_steps_460.pt \\\n",
    "    --vocab /home/shariff/layers/pytorchic-bert/uncased_L-12_H-768_A-12/vocab.txt \\\n",
    "    --max_len 128"
   ]
  },
  {
   "cell_type": "code",
   "execution_count": 9,
   "id": "d7947678",
   "metadata": {},
   "outputs": [
    {
     "name": "stdout",
     "output_type": "stream",
     "text": [
      "cuda (1 GPUs)\n",
      "Loading the model from /data/shariff/bert_test_layer8/output_leaky_100/model_steps_575.pt\n",
      "Iter(acc=0.958): 100%|██████████████████████████| 13/13 [00:01<00:00, 11.76it/s]\n",
      "Accuracy: 0.7916666865348816\n"
     ]
    }
   ],
   "source": [
    "!python3 classify.py \\\n",
    "    --task mrpc \\\n",
    "    --mode eval \\\n",
    "    --train_cfg config/train_mrpc.json \\\n",
    "    --model_cfg config/bert_base.json \\\n",
    "    --data_file /home/shariff/glue_data/MRPC/dev.tsv \\\n",
    "    --model_file /data/shariff/bert_test_layer8/output_leaky_100/model_steps_575.pt \\\n",
    "    --vocab /home/shariff/layers/pytorchic-bert/uncased_L-12_H-768_A-12/vocab.txt \\\n",
    "    --max_len 128"
   ]
  },
  {
   "cell_type": "code",
   "execution_count": 10,
   "id": "ec177f0a",
   "metadata": {},
   "outputs": [
    {
     "name": "stdout",
     "output_type": "stream",
     "text": [
      "cuda (1 GPUs)\n",
      "Loading the model from /data/shariff/bert_test_layer8/output_leaky_100/model_steps_690.pt\n",
      "Iter(acc=0.875): 100%|██████████████████████████| 13/13 [00:01<00:00,  8.96it/s]\n",
      "Accuracy: 0.7867647409439087\n"
     ]
    }
   ],
   "source": [
    "!python3 classify.py \\\n",
    "    --task mrpc \\\n",
    "    --mode eval \\\n",
    "    --train_cfg config/train_mrpc.json \\\n",
    "    --model_cfg config/bert_base.json \\\n",
    "    --data_file /home/shariff/glue_data/MRPC/dev.tsv \\\n",
    "    --model_file /data/shariff/bert_test_layer8/output_leaky_100/model_steps_690.pt \\\n",
    "    --vocab /home/shariff/layers/pytorchic-bert/uncased_L-12_H-768_A-12/vocab.txt \\\n",
    "    --max_len 128"
   ]
  },
  {
   "cell_type": "code",
   "execution_count": 11,
   "id": "d183ced9",
   "metadata": {},
   "outputs": [
    {
     "name": "stdout",
     "output_type": "stream",
     "text": [
      "cuda (1 GPUs)\n",
      "Loading the model from /data/shariff/bert_test_layer8/output_leaky_100/model_steps_805.pt\n",
      "Iter(acc=0.917): 100%|██████████████████████████| 13/13 [00:01<00:00, 11.76it/s]\n",
      "Accuracy: 0.7867647409439087\n"
     ]
    }
   ],
   "source": [
    "!python3 classify.py \\\n",
    "    --task mrpc \\\n",
    "    --mode eval \\\n",
    "    --train_cfg config/train_mrpc.json \\\n",
    "    --model_cfg config/bert_base.json \\\n",
    "    --data_file /home/shariff/glue_data/MRPC/dev.tsv \\\n",
    "    --model_file /data/shariff/bert_test_layer8/output_leaky_100/model_steps_805.pt \\\n",
    "    --vocab /home/shariff/layers/pytorchic-bert/uncased_L-12_H-768_A-12/vocab.txt \\\n",
    "    --max_len 128"
   ]
  },
  {
   "cell_type": "code",
   "execution_count": 12,
   "id": "cf7f6851",
   "metadata": {},
   "outputs": [
    {
     "name": "stdout",
     "output_type": "stream",
     "text": [
      "cuda (1 GPUs)\n",
      "Loading the model from /data/shariff/bert_test_layer8/output_leaky_100/model_steps_920.pt\n",
      "Iter(acc=0.958): 100%|██████████████████████████| 13/13 [00:01<00:00,  8.87it/s]\n",
      "Accuracy: 0.7818627953529358\n"
     ]
    }
   ],
   "source": [
    "!python3 classify.py \\\n",
    "    --task mrpc \\\n",
    "    --mode eval \\\n",
    "    --train_cfg config/train_mrpc.json \\\n",
    "    --model_cfg config/bert_base.json \\\n",
    "    --data_file /home/shariff/glue_data/MRPC/dev.tsv \\\n",
    "    --model_file /data/shariff/bert_test_layer8/output_leaky_100/model_steps_920.pt \\\n",
    "    --vocab /home/shariff/layers/pytorchic-bert/uncased_L-12_H-768_A-12/vocab.txt \\\n",
    "    --max_len 128"
   ]
  },
  {
   "cell_type": "code",
   "execution_count": 13,
   "id": "94ea2594",
   "metadata": {},
   "outputs": [
    {
     "name": "stdout",
     "output_type": "stream",
     "text": [
      "cuda (1 GPUs)\n",
      "Loading the model from /data/shariff/bert_test_layer8/output_leaky_100/model_steps_1035.pt\n",
      "Iter(acc=0.875): 100%|██████████████████████████| 13/13 [00:01<00:00, 11.76it/s]\n",
      "Accuracy: 0.779411792755127\n"
     ]
    }
   ],
   "source": [
    "!python3 classify.py \\\n",
    "    --task mrpc \\\n",
    "    --mode eval \\\n",
    "    --train_cfg config/train_mrpc.json \\\n",
    "    --model_cfg config/bert_base.json \\\n",
    "    --data_file /home/shariff/glue_data/MRPC/dev.tsv \\\n",
    "    --model_file /data/shariff/bert_test_layer8/output_leaky_100/model_steps_1035.pt \\\n",
    "    --vocab /home/shariff/layers/pytorchic-bert/uncased_L-12_H-768_A-12/vocab.txt \\\n",
    "    --max_len 128"
   ]
  },
  {
   "cell_type": "code",
   "execution_count": 14,
   "id": "dd311506",
   "metadata": {},
   "outputs": [
    {
     "name": "stdout",
     "output_type": "stream",
     "text": [
      "cuda (1 GPUs)\n",
      "Loading the model from /data/shariff/bert_test_layer8/output_leaky_100/model_steps_1150.pt\n",
      "Iter(acc=0.917): 100%|██████████████████████████| 13/13 [00:01<00:00,  8.95it/s]\n",
      "Accuracy: 0.7941176891326904\n"
     ]
    }
   ],
   "source": [
    "!python3 classify.py \\\n",
    "    --task mrpc \\\n",
    "    --mode eval \\\n",
    "    --train_cfg config/train_mrpc.json \\\n",
    "    --model_cfg config/bert_base.json \\\n",
    "    --data_file /home/shariff/glue_data/MRPC/dev.tsv \\\n",
    "    --model_file /data/shariff/bert_test_layer8/output_leaky_100/model_steps_1150.pt \\\n",
    "    --vocab /home/shariff/layers/pytorchic-bert/uncased_L-12_H-768_A-12/vocab.txt \\\n",
    "    --max_len 128"
   ]
  },
  {
   "cell_type": "code",
   "execution_count": 15,
   "id": "bb91af69",
   "metadata": {},
   "outputs": [
    {
     "name": "stdout",
     "output_type": "stream",
     "text": [
      "cuda (1 GPUs)\n",
      "Loading the model from /data/shariff/bert_test_layer8/output_leaky_100/model_steps_1265.pt\n",
      "Iter(acc=0.917): 100%|██████████████████████████| 13/13 [00:01<00:00, 11.75it/s]\n",
      "Accuracy: 0.774509847164154\n"
     ]
    }
   ],
   "source": [
    "!python3 classify.py \\\n",
    "    --task mrpc \\\n",
    "    --mode eval \\\n",
    "    --train_cfg config/train_mrpc.json \\\n",
    "    --model_cfg config/bert_base.json \\\n",
    "    --data_file /home/shariff/glue_data/MRPC/dev.tsv \\\n",
    "    --model_file /data/shariff/bert_test_layer8/output_leaky_100/model_steps_1265.pt \\\n",
    "    --vocab /home/shariff/layers/pytorchic-bert/uncased_L-12_H-768_A-12/vocab.txt \\\n",
    "    --max_len 128"
   ]
  },
  {
   "cell_type": "code",
   "execution_count": 16,
   "id": "4cfa8f7a",
   "metadata": {},
   "outputs": [
    {
     "name": "stdout",
     "output_type": "stream",
     "text": [
      "cuda (1 GPUs)\n",
      "Loading the model from /data/shariff/bert_test_layer8/output_leaky_100/model_steps_1380.pt\n",
      "Iter(acc=0.917): 100%|██████████████████████████| 13/13 [00:01<00:00,  9.01it/s]\n",
      "Accuracy: 0.7622549533843994\n"
     ]
    }
   ],
   "source": [
    "!python3 classify.py \\\n",
    "    --task mrpc \\\n",
    "    --mode eval \\\n",
    "    --train_cfg config/train_mrpc.json \\\n",
    "    --model_cfg config/bert_base.json \\\n",
    "    --data_file /home/shariff/glue_data/MRPC/dev.tsv \\\n",
    "    --model_file /data/shariff/bert_test_layer8/output_leaky_100/model_steps_1380.pt \\\n",
    "    --vocab /home/shariff/layers/pytorchic-bert/uncased_L-12_H-768_A-12/vocab.txt \\\n",
    "    --max_len 128"
   ]
  },
  {
   "cell_type": "code",
   "execution_count": 17,
   "id": "472a19e7",
   "metadata": {},
   "outputs": [
    {
     "name": "stdout",
     "output_type": "stream",
     "text": [
      "cuda (1 GPUs)\n",
      "Loading the model from /data/shariff/bert_test_layer8/output_leaky_100/model_steps_1495.pt\n",
      "Iter(acc=0.917): 100%|██████████████████████████| 13/13 [00:01<00:00, 11.87it/s]\n",
      "Accuracy: 0.7916666865348816\n"
     ]
    }
   ],
   "source": [
    "!python3 classify.py \\\n",
    "    --task mrpc \\\n",
    "    --mode eval \\\n",
    "    --train_cfg config/train_mrpc.json \\\n",
    "    --model_cfg config/bert_base.json \\\n",
    "    --data_file /home/shariff/glue_data/MRPC/dev.tsv \\\n",
    "    --model_file /data/shariff/bert_test_layer8/output_leaky_100/model_steps_1495.pt \\\n",
    "    --vocab /home/shariff/layers/pytorchic-bert/uncased_L-12_H-768_A-12/vocab.txt \\\n",
    "    --max_len 128"
   ]
  },
  {
   "cell_type": "code",
   "execution_count": 18,
   "id": "0a4f9a00",
   "metadata": {},
   "outputs": [
    {
     "name": "stdout",
     "output_type": "stream",
     "text": [
      "cuda (1 GPUs)\n",
      "Loading the model from /data/shariff/bert_test_layer8/output_leaky_100/model_steps_1610.pt\n",
      "Iter(acc=0.917): 100%|██████████████████████████| 13/13 [00:01<00:00,  8.91it/s]\n",
      "Accuracy: 0.7867647409439087\n"
     ]
    }
   ],
   "source": [
    "!python3 classify.py \\\n",
    "    --task mrpc \\\n",
    "    --mode eval \\\n",
    "    --train_cfg config/train_mrpc.json \\\n",
    "    --model_cfg config/bert_base.json \\\n",
    "    --data_file /home/shariff/glue_data/MRPC/dev.tsv \\\n",
    "    --model_file /data/shariff/bert_test_layer8/output_leaky_100/model_steps_1610.pt \\\n",
    "    --vocab /home/shariff/layers/pytorchic-bert/uncased_L-12_H-768_A-12/vocab.txt \\\n",
    "    --max_len 128"
   ]
  },
  {
   "cell_type": "code",
   "execution_count": 19,
   "id": "fd0293d1",
   "metadata": {},
   "outputs": [
    {
     "name": "stdout",
     "output_type": "stream",
     "text": [
      "cuda (1 GPUs)\n",
      "Loading the model from /data/shariff/bert_test_layer8/output_leaky_100/model_steps_1725.pt\n",
      "Iter(acc=0.917): 100%|██████████████████████████| 13/13 [00:01<00:00, 11.77it/s]\n",
      "Accuracy: 0.7843137383460999\n"
     ]
    }
   ],
   "source": [
    "!python3 classify.py \\\n",
    "    --task mrpc \\\n",
    "    --mode eval \\\n",
    "    --train_cfg config/train_mrpc.json \\\n",
    "    --model_cfg config/bert_base.json \\\n",
    "    --data_file /home/shariff/glue_data/MRPC/dev.tsv \\\n",
    "    --model_file /data/shariff/bert_test_layer8/output_leaky_100/model_steps_1725.pt \\\n",
    "    --vocab /home/shariff/layers/pytorchic-bert/uncased_L-12_H-768_A-12/vocab.txt \\\n",
    "    --max_len 128"
   ]
  },
  {
   "cell_type": "code",
   "execution_count": 20,
   "id": "86b1f65f",
   "metadata": {},
   "outputs": [
    {
     "name": "stdout",
     "output_type": "stream",
     "text": [
      "cuda (1 GPUs)\n",
      "Loading the model from /data/shariff/bert_test_layer8/output_leaky_100/model_steps_1840.pt\n",
      "Iter(acc=0.875): 100%|██████████████████████████| 13/13 [00:01<00:00,  9.04it/s]\n",
      "Accuracy: 0.7818627953529358\n"
     ]
    }
   ],
   "source": [
    "!python3 classify.py \\\n",
    "    --task mrpc \\\n",
    "    --mode eval \\\n",
    "    --train_cfg config/train_mrpc.json \\\n",
    "    --model_cfg config/bert_base.json \\\n",
    "    --data_file /home/shariff/glue_data/MRPC/dev.tsv \\\n",
    "    --model_file /data/shariff/bert_test_layer8/output_leaky_100/model_steps_1840.pt \\\n",
    "    --vocab /home/shariff/layers/pytorchic-bert/uncased_L-12_H-768_A-12/vocab.txt \\\n",
    "    --max_len 128"
   ]
  },
  {
   "cell_type": "code",
   "execution_count": 21,
   "id": "f78c0a84",
   "metadata": {},
   "outputs": [
    {
     "name": "stdout",
     "output_type": "stream",
     "text": [
      "cuda (1 GPUs)\n",
      "Loading the model from /data/shariff/bert_test_layer8/output_leaky_100/model_steps_1955.pt\n",
      "Iter(acc=0.917): 100%|██████████████████████████| 13/13 [00:01<00:00, 11.70it/s]\n",
      "Accuracy: 0.7941176891326904\n"
     ]
    }
   ],
   "source": [
    "!python3 classify.py \\\n",
    "    --task mrpc \\\n",
    "    --mode eval \\\n",
    "    --train_cfg config/train_mrpc.json \\\n",
    "    --model_cfg config/bert_base.json \\\n",
    "    --data_file /home/shariff/glue_data/MRPC/dev.tsv \\\n",
    "    --model_file /data/shariff/bert_test_layer8/output_leaky_100/model_steps_1955.pt \\\n",
    "    --vocab /home/shariff/layers/pytorchic-bert/uncased_L-12_H-768_A-12/vocab.txt \\\n",
    "    --max_len 128"
   ]
  },
  {
   "cell_type": "code",
   "execution_count": 22,
   "id": "f1734e94",
   "metadata": {},
   "outputs": [
    {
     "name": "stdout",
     "output_type": "stream",
     "text": [
      "cuda (1 GPUs)\n",
      "Loading the model from /data/shariff/bert_test_layer8/output_leaky_100/model_steps_2070.pt\n",
      "Iter(acc=0.917): 100%|██████████████████████████| 13/13 [00:01<00:00,  8.93it/s]\n",
      "Accuracy: 0.7867647409439087\n"
     ]
    }
   ],
   "source": [
    "!python3 classify.py \\\n",
    "    --task mrpc \\\n",
    "    --mode eval \\\n",
    "    --train_cfg config/train_mrpc.json \\\n",
    "    --model_cfg config/bert_base.json \\\n",
    "    --data_file /home/shariff/glue_data/MRPC/dev.tsv \\\n",
    "    --model_file /data/shariff/bert_test_layer8/output_leaky_100/model_steps_2070.pt \\\n",
    "    --vocab /home/shariff/layers/pytorchic-bert/uncased_L-12_H-768_A-12/vocab.txt \\\n",
    "    --max_len 128"
   ]
  },
  {
   "cell_type": "code",
   "execution_count": 23,
   "id": "74455068",
   "metadata": {},
   "outputs": [
    {
     "name": "stdout",
     "output_type": "stream",
     "text": [
      "cuda (1 GPUs)\n",
      "Loading the model from /data/shariff/bert_test_layer8/output_leaky_100/model_steps_2185.pt\n",
      "Iter(acc=0.917): 100%|██████████████████████████| 13/13 [00:01<00:00, 11.86it/s]\n",
      "Accuracy: 0.7965686321258545\n"
     ]
    }
   ],
   "source": [
    "!python3 classify.py \\\n",
    "    --task mrpc \\\n",
    "    --mode eval \\\n",
    "    --train_cfg config/train_mrpc.json \\\n",
    "    --model_cfg config/bert_base.json \\\n",
    "    --data_file /home/shariff/glue_data/MRPC/dev.tsv \\\n",
    "    --model_file /data/shariff/bert_test_layer8/output_leaky_100/model_steps_2185.pt \\\n",
    "    --vocab /home/shariff/layers/pytorchic-bert/uncased_L-12_H-768_A-12/vocab.txt \\\n",
    "    --max_len 128"
   ]
  },
  {
   "cell_type": "code",
   "execution_count": 24,
   "id": "34d2d880",
   "metadata": {},
   "outputs": [
    {
     "name": "stdout",
     "output_type": "stream",
     "text": [
      "cuda (1 GPUs)\n",
      "Loading the model from /data/shariff/bert_test_layer8/output_leaky_100/model_steps_2300.pt\n",
      "Iter(acc=0.875): 100%|██████████████████████████| 13/13 [00:01<00:00,  8.97it/s]\n",
      "Accuracy: 0.7818627953529358\n"
     ]
    }
   ],
   "source": [
    "!python3 classify.py \\\n",
    "    --task mrpc \\\n",
    "    --mode eval \\\n",
    "    --train_cfg config/train_mrpc.json \\\n",
    "    --model_cfg config/bert_base.json \\\n",
    "    --data_file /home/shariff/glue_data/MRPC/dev.tsv \\\n",
    "    --model_file /data/shariff/bert_test_layer8/output_leaky_100/model_steps_2300.pt \\\n",
    "    --vocab /home/shariff/layers/pytorchic-bert/uncased_L-12_H-768_A-12/vocab.txt \\\n",
    "    --max_len 128"
   ]
  },
  {
   "cell_type": "code",
   "execution_count": 25,
   "id": "4256f769",
   "metadata": {},
   "outputs": [
    {
     "name": "stdout",
     "output_type": "stream",
     "text": [
      "cuda (1 GPUs)\n",
      "Loading the model from /data/shariff/bert_test_layer8/output_leaky_100/model_steps_2415.pt\n",
      "Iter(acc=0.875): 100%|██████████████████████████| 13/13 [00:01<00:00, 11.81it/s]\n",
      "Accuracy: 0.779411792755127\n"
     ]
    }
   ],
   "source": [
    "!python3 classify.py \\\n",
    "    --task mrpc \\\n",
    "    --mode eval \\\n",
    "    --train_cfg config/train_mrpc.json \\\n",
    "    --model_cfg config/bert_base.json \\\n",
    "    --data_file /home/shariff/glue_data/MRPC/dev.tsv \\\n",
    "    --model_file /data/shariff/bert_test_layer8/output_leaky_100/model_steps_2415.pt \\\n",
    "    --vocab /home/shariff/layers/pytorchic-bert/uncased_L-12_H-768_A-12/vocab.txt \\\n",
    "    --max_len 128"
   ]
  },
  {
   "cell_type": "code",
   "execution_count": 26,
   "id": "53b57334",
   "metadata": {},
   "outputs": [
    {
     "name": "stdout",
     "output_type": "stream",
     "text": [
      "cuda (1 GPUs)\n",
      "Loading the model from /data/shariff/bert_test_layer8/output_leaky_100/model_steps_2530.pt\n",
      "Iter(acc=0.917): 100%|██████████████████████████| 13/13 [00:01<00:00,  8.88it/s]\n",
      "Accuracy: 0.7867647409439087\n"
     ]
    }
   ],
   "source": [
    "!python3 classify.py \\\n",
    "    --task mrpc \\\n",
    "    --mode eval \\\n",
    "    --train_cfg config/train_mrpc.json \\\n",
    "    --model_cfg config/bert_base.json \\\n",
    "    --data_file /home/shariff/glue_data/MRPC/dev.tsv \\\n",
    "    --model_file /data/shariff/bert_test_layer8/output_leaky_100/model_steps_2530.pt \\\n",
    "    --vocab /home/shariff/layers/pytorchic-bert/uncased_L-12_H-768_A-12/vocab.txt \\\n",
    "    --max_len 128"
   ]
  },
  {
   "cell_type": "code",
   "execution_count": 27,
   "id": "a57f5c16",
   "metadata": {},
   "outputs": [
    {
     "name": "stdout",
     "output_type": "stream",
     "text": [
      "cuda (1 GPUs)\n",
      "Loading the model from /data/shariff/bert_test_layer8/output_leaky_100/model_steps_2645.pt\n",
      "Iter(acc=0.917): 100%|██████████████████████████| 13/13 [00:01<00:00, 11.79it/s]\n",
      "Accuracy: 0.7892157435417175\n"
     ]
    }
   ],
   "source": [
    "!python3 classify.py \\\n",
    "    --task mrpc \\\n",
    "    --mode eval \\\n",
    "    --train_cfg config/train_mrpc.json \\\n",
    "    --model_cfg config/bert_base.json \\\n",
    "    --data_file /home/shariff/glue_data/MRPC/dev.tsv \\\n",
    "    --model_file /data/shariff/bert_test_layer8/output_leaky_100/model_steps_2645.pt \\\n",
    "    --vocab /home/shariff/layers/pytorchic-bert/uncased_L-12_H-768_A-12/vocab.txt \\\n",
    "    --max_len 128"
   ]
  },
  {
   "cell_type": "code",
   "execution_count": 28,
   "id": "c1288137",
   "metadata": {},
   "outputs": [
    {
     "name": "stdout",
     "output_type": "stream",
     "text": [
      "cuda (1 GPUs)\n",
      "Loading the model from /data/shariff/bert_test_layer8/output_leaky_100/model_steps_2760.pt\n",
      "Iter(acc=0.917): 100%|██████████████████████████| 13/13 [00:01<00:00,  8.99it/s]\n",
      "Accuracy: 0.7892157435417175\n"
     ]
    }
   ],
   "source": [
    "!python3 classify.py \\\n",
    "    --task mrpc \\\n",
    "    --mode eval \\\n",
    "    --train_cfg config/train_mrpc.json \\\n",
    "    --model_cfg config/bert_base.json \\\n",
    "    --data_file /home/shariff/glue_data/MRPC/dev.tsv \\\n",
    "    --model_file /data/shariff/bert_test_layer8/output_leaky_100/model_steps_2760.pt \\\n",
    "    --vocab /home/shariff/layers/pytorchic-bert/uncased_L-12_H-768_A-12/vocab.txt \\\n",
    "    --max_len 128"
   ]
  },
  {
   "cell_type": "code",
   "execution_count": 29,
   "id": "9411832d",
   "metadata": {},
   "outputs": [],
   "source": [
    "# !python3 classify.py \\\n",
    "#     --task mrpc \\\n",
    "#     --mode eval \\\n",
    "#     --train_cfg config/train_mrpc.json \\\n",
    "#     --model_cfg config/bert_base.json \\\n",
    "#     --data_file /home/shariff/glue_data/MRPC/dev.tsv \\\n",
    "#     --model_file /data/shariff/bert_test_layer2/output_leaky_000/model_steps_600.pt \\\n",
    "#     --vocab /home/shariff/layers/pytorchic-bert/uncased_L-12_H-768_A-12/vocab.txt \\\n",
    "#     --max_len 128"
   ]
  },
  {
   "cell_type": "code",
   "execution_count": 30,
   "id": "842f6201",
   "metadata": {},
   "outputs": [],
   "source": [
    "# !python3 classify.py \\\n",
    "#     --task mrpc \\\n",
    "#     --mode eval \\\n",
    "#     --train_cfg config/train_mrpc.json \\\n",
    "#     --model_cfg config/bert_base.json \\\n",
    "#     --data_file /home/shariff/glue_data/MRPC/dev.tsv \\\n",
    "#     --model_file /data/shariff/bert_test/output_leaky_100/compressed_model.pt \\\n",
    "#     --vocab /home/shariff/layers/pytorchic-bert/uncased_L-12_H-768_A-12/vocab.txt \\\n",
    "#     --max_len 128"
   ]
  },
  {
   "cell_type": "code",
   "execution_count": 31,
   "id": "7eaefbf2",
   "metadata": {},
   "outputs": [],
   "source": [
    "# !python3 classify.py \\\n",
    "#     --task mrpc \\\n",
    "#     --mode eval \\\n",
    "#     --train_cfg config/train_mrpc.json \\\n",
    "#     --model_cfg config/bert_base.json \\\n",
    "#     --data_file /home/shariff/glue_data/MRPC/dev.tsv \\\n",
    "#     --model_file /data/shariff/bert_test/output_leaky_100/model_steps_690.pt \\\n",
    "#     --vocab /home/shariff/layers/pytorchic-bert/uncased_L-12_H-768_A-12/vocab.txt \\\n",
    "#     --max_len 128"
   ]
  },
  {
   "cell_type": "code",
   "execution_count": 32,
   "id": "5486aeb6",
   "metadata": {},
   "outputs": [],
   "source": [
    "# !python3 classify.py \\\n",
    "#     --task mrpc \\\n",
    "#     --mode eval \\\n",
    "#     --train_cfg config/train_mrpc.json \\\n",
    "#     --model_cfg config/bert_base.json \\\n",
    "#     --data_file /home/shariff/glue_data/MRPC/dev.tsv \\\n",
    "#     --model_file /data/shariff/output/model_steps_345.pt \\\n",
    "#     --vocab /home/shariff/layers/pytorchic-bert/uncased_L-12_H-768_A-12/vocab.txt \\\n",
    "#     --max_len 128"
   ]
  },
  {
   "cell_type": "code",
   "execution_count": 33,
   "id": "8cd54541",
   "metadata": {},
   "outputs": [],
   "source": [
    "# !python3 classify.py \\\n",
    "#     --task mrpc \\\n",
    "#     --mode eval \\\n",
    "#     --train_cfg config/train_mrpc.json \\\n",
    "#     --model_cfg config/bert_base.json \\\n",
    "#     --data_file /home/shariff/glue_data/MRPC/dev.tsv \\\n",
    "#     --model_file /data/shariff/bert_test_layer2/output_leaky_100/compressed_model.pt \\\n",
    "#     --vocab /home/shariff/layers/pytorchic-bert/uncased_L-12_H-768_A-12/vocab.txt \\\n",
    "#     --max_len 128"
   ]
  },
  {
   "cell_type": "code",
   "execution_count": 34,
   "id": "2e7b5174",
   "metadata": {},
   "outputs": [],
   "source": [
    "#         vector<int> ans;\n",
    "#         if (nums.size() == 2) {\n",
    "#             ans.push_back(nums[1]);\n",
    "#             ans.push_back(nums[0]);\n",
    "#             return ans;\n",
    "#         }\n",
    "#         vector<int> prefix(nums.size(),0);\n",
    "#         vector<int> suffix(nums.size(),0);\n",
    "#         int curr = 1;\n",
    "#         for (int i = 0; i < nums.size(); i++) {\n",
    "#             curr = curr * nums[i];\n",
    "#             prefix[i] = curr;\n",
    "#         }\n",
    "#         curr = 1;\n",
    "#         for (int i = nums.size()-1; i > -1; i--) {\n",
    "#             curr = curr * nums[i];\n",
    "#             suffix[i] = curr;\n",
    "#         }\n",
    "#         ans.push_back(suffix[1]);\n",
    "#         for (int i = 0; i < nums.size()-2; i++) {\n",
    "#             ans.push_back(prefix[i]*suffix[i+2]);\n",
    "#         }\n",
    "#         ans.push_back(prefix[nums.size()-2]);\n",
    "#         return ans;"
   ]
  }
 ],
 "metadata": {
  "kernelspec": {
   "display_name": "Python 3 (ipykernel)",
   "language": "python",
   "name": "python3"
  },
  "language_info": {
   "codemirror_mode": {
    "name": "ipython",
    "version": 3
   },
   "file_extension": ".py",
   "mimetype": "text/x-python",
   "name": "python",
   "nbconvert_exporter": "python",
   "pygments_lexer": "ipython3",
   "version": "3.8.10"
  }
 },
 "nbformat": 4,
 "nbformat_minor": 5
}
